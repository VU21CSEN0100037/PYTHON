{
  "nbformat": 4,
  "nbformat_minor": 0,
  "metadata": {
    "colab": {
      "name": "DICTIONARIES",
      "provenance": [],
      "authorship_tag": "ABX9TyMpP3pkAg6PWmp0VEfReDPa",
      "include_colab_link": true
    },
    "kernelspec": {
      "name": "python3",
      "display_name": "Python 3"
    },
    "language_info": {
      "name": "python"
    }
  },
  "cells": [
    {
      "cell_type": "markdown",
      "metadata": {
        "id": "view-in-github",
        "colab_type": "text"
      },
      "source": [
        "<a href=\"https://colab.research.google.com/github/VU21CSEN0100037/PYTHON/blob/main/DICTIONARIES.ipynb\" target=\"_parent\"><img src=\"https://colab.research.google.com/assets/colab-badge.svg\" alt=\"Open In Colab\"/></a>"
      ]
    },
    {
      "cell_type": "code",
      "execution_count": null,
      "metadata": {
        "id": "o6x7TTBngruA"
      },
      "outputs": [],
      "source": [
        "a = {\"brand\": \"amour\",\n",
        "  \"model\": \"orous\",\n",
        "  \"year\": 2300}\n",
        "print(a)"
      ]
    },
    {
      "cell_type": "code",
      "source": [
        "a = {\"brand\": \"amour\",\n",
        "  \"model\": \"orous\",\n",
        "  \"year\": 2300}\n",
        "print(a[\"brand\"])"
      ],
      "metadata": {
        "colab": {
          "base_uri": "https://localhost:8080/"
        },
        "id": "T7bQW6pQh8vW",
        "outputId": "3a972e73-3a53-4f6d-de0a-7597164c2a84"
      },
      "execution_count": 5,
      "outputs": [
        {
          "output_type": "stream",
          "name": "stdout",
          "text": [
            "amour\n"
          ]
        }
      ]
    }
  ]
}