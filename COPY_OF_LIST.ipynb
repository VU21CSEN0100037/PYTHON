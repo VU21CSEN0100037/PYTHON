{
  "nbformat": 4,
  "nbformat_minor": 0,
  "metadata": {
    "colab": {
      "name": "COPY OF LIST",
      "provenance": [],
      "authorship_tag": "ABX9TyNtlog2LPlx/Nhd8kQSM8nq",
      "include_colab_link": true
    },
    "kernelspec": {
      "name": "python3",
      "display_name": "Python 3"
    },
    "language_info": {
      "name": "python"
    }
  },
  "cells": [
    {
      "cell_type": "markdown",
      "metadata": {
        "id": "view-in-github",
        "colab_type": "text"
      },
      "source": [
        "<a href=\"https://colab.research.google.com/github/VU21CSEN0100037/PYTHON/blob/main/COPY_OF_LIST.ipynb\" target=\"_parent\"><img src=\"https://colab.research.google.com/assets/colab-badge.svg\" alt=\"Open In Colab\"/></a>"
      ]
    },
    {
      "cell_type": "markdown",
      "source": [
        "JOIN LISTS"
      ],
      "metadata": {
        "id": "2bt3GWK-vMQh"
      }
    },
    {
      "cell_type": "code",
      "source": [
        "#JOIN TWO LIST\n",
        "a = [\"d\",\"e\",\"f\"]\n",
        "b = [1,2,3]\n",
        "c= a + b\n",
        "print(c)\n",
        "\n",
        "a = [\"d\",\"e\",\"f\"]\n",
        "b = [\"1,2,3\"]\n",
        "for x in b:\n",
        "  a.append(x)\n",
        "  print(a)\n",
        "\n",
        "#EXTEND \n",
        "a = [\"d\",\"e\",\"f\"]\n",
        "b = [1,2,3]\n",
        "a.extend(b)\n",
        "print(a)"
      ],
      "metadata": {
        "colab": {
          "base_uri": "https://localhost:8080/"
        },
        "id": "6WcEQkTJvQKl",
        "outputId": "2b817e0f-a2bc-4a50-f5ea-5bad786fb5f8"
      },
      "execution_count": 23,
      "outputs": [
        {
          "output_type": "stream",
          "name": "stdout",
          "text": [
            "['d', 'e', 'f', 1, 2, 3]\n",
            "['d', 'e', 'f', '1,2,3']\n",
            "['d', 'e', 'f', 1, 2, 3]\n"
          ]
        }
      ]
    },
    {
      "cell_type": "markdown",
      "source": [
        "COPY LIST"
      ],
      "metadata": {
        "id": "IA3QDYGSz7c6"
      }
    },
    {
      "cell_type": "code",
      "source": [
        "fruit = [\"apple\",\"banana\",\"orange\"]\n",
        "mylist=fruit.copy()\n",
        "print(mylist)\n",
        "\n",
        "mylist=list(fruit)\n",
        "print(mylist)"
      ],
      "metadata": {
        "colab": {
          "base_uri": "https://localhost:8080/"
        },
        "id": "EsDHrzLIz-4D",
        "outputId": "3bc0fb63-a415-4095-9b9c-ae9d277e05b9"
      },
      "execution_count": 14,
      "outputs": [
        {
          "output_type": "stream",
          "name": "stdout",
          "text": [
            "['apple', 'banana', 'orange']\n",
            "['apple', 'banana', 'orange']\n"
          ]
        }
      ]
    },
    {
      "cell_type": "markdown",
      "source": [
        "SORT LIST"
      ],
      "metadata": {
        "id": "oKKockSM1lgh"
      }
    },
    {
      "cell_type": "code",
      "source": [
        "#SORT ALPH\n",
        "fruit=[\"apple\",\"pineapple\",\"orange\",\"banana\",\"guava\"]\n",
        "fruit.sort()\n",
        "print(fruit)\n",
        "\n",
        "#SORT NUMBERICALLY\n",
        "number=[\"90\",\"50\",\"53\",\"66\",\"111\"]\n",
        "number.sort()\n",
        "print(number)\n",
        "\n",
        "#SORT DESCENDING\n",
        "fruit=[\"apple\",\"kiwi\",\"banana\",\"lichy\",\"mango\"]\n",
        "fruit.sort(reverse= True)\n",
        "print(fruit)\n",
        "\n",
        "numbers=[\"60\",\"12\",\"9\"]\n",
        "numbers.sort(reverse= True)\n",
        "print(numbers)\n",
        "\n",
        "#CUSTOMISE SORT FUNCTION\n",
        "def myfunc(n):\n",
        "  return abs(n = 50)\n",
        "  numbers = [11,58,133,44,58]\n",
        "  numbers.sort(key = myfunc)\n",
        "  print(numbers)\n",
        "\n",
        "#CASE INSENSTIVE SORT\n",
        "fruit = [\"banana\",\"mango\",\"watermelon\",\"grapes\",\"cherry\"]\n",
        "fruit.sort()\n",
        "print(fruit)\n",
        "\n",
        "#REVERSE ORDER\n",
        "fruit= [\"cherry\",\"watermelon\",\"apple\",\"grapes\",\"mango\"]\n",
        "fruit.reverse()\n",
        "print(fruit)\n",
        "\n",
        "\n",
        "\n"
      ],
      "metadata": {
        "colab": {
          "base_uri": "https://localhost:8080/"
        },
        "id": "Q9GWW2u81nGx",
        "outputId": "3bc8741b-4bd3-42f1-921d-350c63e0eadf"
      },
      "execution_count": 27,
      "outputs": [
        {
          "output_type": "stream",
          "name": "stdout",
          "text": [
            "['apple', 'banana', 'guava', 'orange', 'pineapple']\n",
            "['111', '50', '53', '66', '90']\n",
            "['mango', 'lichy', 'kiwi', 'banana', 'apple']\n",
            "['9', '60', '12']\n",
            "['banana', 'cherry', 'grapes', 'mango', 'watermelon']\n",
            "['mango', 'grapes', 'apple', 'watermelon', 'cherry']\n"
          ]
        }
      ]
    },
    {
      "cell_type": "markdown",
      "source": [
        "CHANGING LIST ITEMS"
      ],
      "metadata": {
        "id": "Ri7Lmryi5inJ"
      }
    },
    {
      "cell_type": "code",
      "source": [
        "fruit = [\"kiwi\",\"cherry\",\"lichy\",\"drangon\"]\n",
        "print(fruit)\n",
        "fruit[1:3]=[\"pipeapple\"]\n",
        "print(fruit)\n",
        "fruit[2:3]=[\"apple\",\"mango\"]\n",
        "print(fruit)"
      ],
      "metadata": {
        "colab": {
          "base_uri": "https://localhost:8080/"
        },
        "id": "HuLtWSjR5nl3",
        "outputId": "958e7596-545c-4177-8dd9-79c741174f4c"
      },
      "execution_count": 17,
      "outputs": [
        {
          "output_type": "stream",
          "name": "stdout",
          "text": [
            "['kiwi', 'cherry', 'lichy', 'drangon']\n",
            "['kiwi', 'pipeapple', 'drangon']\n",
            "['kiwi', 'pipeapple', 'apple', 'mango']\n"
          ]
        }
      ]
    },
    {
      "cell_type": "markdown",
      "source": [
        "EXTENDING THE ITEM"
      ],
      "metadata": {
        "id": "5E1ce8Vz6QoK"
      }
    },
    {
      "cell_type": "code",
      "source": [
        "fruit=[\"kiwi\",\"apple\",\"lichy\",\"watermelon\"]\n",
        "print(fruit)\n",
        "fruit[2:4]=\"blackberry\"\n",
        "print(fruit)"
      ],
      "metadata": {
        "colab": {
          "base_uri": "https://localhost:8080/"
        },
        "id": "2vQCIgRz6Xp_",
        "outputId": "bf7b06b4-5247-4ae6-a104-291ddbd6a7a8"
      },
      "execution_count": 19,
      "outputs": [
        {
          "output_type": "stream",
          "name": "stdout",
          "text": [
            "['kiwi', 'apple', 'lichy', 'watermelon']\n",
            "['kiwi', 'apple', 'b', 'l', 'a', 'c', 'k', 'b', 'e', 'r', 'r', 'y']\n"
          ]
        }
      ]
    },
    {
      "cell_type": "markdown",
      "source": [
        "ADD LIST ITEMS"
      ],
      "metadata": {
        "id": "wBoH9PSs63iH"
      }
    },
    {
      "cell_type": "code",
      "source": [
        "fruit=[\"strawberry\",\"rasberry\",\"blackberry\",\"cherry\"]\n",
        "print(fruit)\n",
        "\n",
        "#APPEND\n",
        "fruit.append(\"apple\")\n",
        "print(fruit)\n",
        "\n",
        "#INSERTING\n",
        "fruit.insert(4,\"mango\")\n",
        "print(fruit)\n",
        "fruit.insert(1,\"banana\")\n",
        "print(fruit)\n",
        "\n",
        "#EXTENDING THE LIST\n",
        "extra=(\"kiwi\",\"lichy\")\n",
        "fruit.extend(extra)\n",
        "print(fruit)"
      ],
      "metadata": {
        "colab": {
          "base_uri": "https://localhost:8080/"
        },
        "id": "U4olRo2z65nj",
        "outputId": "5383aab6-7c97-4d12-ffea-6ab33a45d7e3"
      },
      "execution_count": 20,
      "outputs": [
        {
          "output_type": "stream",
          "name": "stdout",
          "text": [
            "['strawberry', 'rasberry', 'blackberry', 'cherry']\n",
            "['strawberry', 'rasberry', 'blackberry', 'cherry', 'apple']\n",
            "['strawberry', 'rasberry', 'blackberry', 'cherry', 'mango', 'apple']\n",
            "['strawberry', 'banana', 'rasberry', 'blackberry', 'cherry', 'mango', 'apple']\n",
            "['strawberry', 'banana', 'rasberry', 'blackberry', 'cherry', 'mango', 'apple', 'kiwi', 'lichy']\n"
          ]
        }
      ]
    },
    {
      "cell_type": "markdown",
      "source": [
        "ACCESSING LIST"
      ],
      "metadata": {
        "id": "RZLYykid8Bkk"
      }
    },
    {
      "cell_type": "code",
      "source": [
        "fruit=[\"kiwi\",\"lichy\",\"mango\",\"apple\"]\n",
        "print(fruit)\n",
        "\n",
        "#PRINT THE FIRST ITEM OF THE LIST\n",
        "print(fruit[0])\n",
        "\n",
        "#NEGATIVE INDEXING\n",
        "print(fruit[-1])\n",
        "\n",
        "#RANGE OF INDEXES\n",
        "print(fruit[0:2])\n",
        "print(fruit[:2])\n",
        "print(fruit[1:2])\n",
        "print(fruit[1:])\n",
        "print(fruit[3:])"
      ],
      "metadata": {
        "colab": {
          "base_uri": "https://localhost:8080/"
        },
        "id": "q98n0aGy8Flt",
        "outputId": "0ec96b78-c6de-40b9-a77a-19fbbc8fd2a0"
      },
      "execution_count": 21,
      "outputs": [
        {
          "output_type": "stream",
          "name": "stdout",
          "text": [
            "['kiwi', 'lichy', 'mango', 'apple']\n",
            "kiwi\n",
            "apple\n",
            "['kiwi', 'lichy']\n",
            "['kiwi', 'lichy']\n",
            "['lichy']\n",
            "['lichy', 'mango', 'apple']\n",
            "['apple']\n"
          ]
        }
      ]
    },
    {
      "cell_type": "markdown",
      "source": [
        "LOOP LIST"
      ],
      "metadata": {
        "id": "jcWPKbP9GWdQ"
      }
    },
    {
      "cell_type": "code",
      "source": [
        "vegetable=[\"carrot\",\"betroot\",\"onion\"]\n",
        "print(vegetable)\n",
        "\n",
        "#FOR LOOP\n",
        "for x in vegetable:\n",
        "  print(x)\n",
        "\n",
        "  #RANGE\n",
        "  for i in range(len(vegetable)):\n",
        "    print(vegetable[1])\n",
        "\n",
        "  #WHILE LOOP\n",
        "  i=0\n",
        "  while i < len(vegetable):\n",
        "    print(vegetable[i])\n",
        "    i=i+1\n",
        "    \n",
        "  #FOR LOOP\n",
        "  [print(x) for x in fruit]"
      ],
      "metadata": {
        "colab": {
          "base_uri": "https://localhost:8080/"
        },
        "id": "EL_2JYBEGYdC",
        "outputId": "5dbdd05f-3e75-4fee-8d8c-97c0861cc97d"
      },
      "execution_count": 30,
      "outputs": [
        {
          "output_type": "stream",
          "name": "stdout",
          "text": [
            "['carrot', 'betroot', 'onion']\n",
            "carrot\n",
            "betroot\n",
            "betroot\n",
            "betroot\n",
            "carrot\n",
            "betroot\n",
            "onion\n",
            "mango\n",
            "grapes\n",
            "apple\n",
            "watermelon\n",
            "cherry\n",
            "betroot\n",
            "betroot\n",
            "betroot\n",
            "betroot\n",
            "carrot\n",
            "betroot\n",
            "onion\n",
            "mango\n",
            "grapes\n",
            "apple\n",
            "watermelon\n",
            "cherry\n",
            "onion\n",
            "betroot\n",
            "betroot\n",
            "betroot\n",
            "carrot\n",
            "betroot\n",
            "onion\n",
            "mango\n",
            "grapes\n",
            "apple\n",
            "watermelon\n",
            "cherry\n"
          ]
        }
      ]
    },
    {
      "cell_type": "markdown",
      "source": [
        "PRINTING LIST"
      ],
      "metadata": {
        "id": "tzBOngx6IAZZ"
      }
    },
    {
      "cell_type": "code",
      "source": [
        "fruit=[\"kiwi\",\"apple\",\"watermelon\",\"grapes\"]\n",
        "print(fruit)"
      ],
      "metadata": {
        "colab": {
          "base_uri": "https://localhost:8080/"
        },
        "id": "Np9NCdaoIDJe",
        "outputId": "b532666e-0cce-4a0f-b17c-908d562542b2"
      },
      "execution_count": 32,
      "outputs": [
        {
          "output_type": "stream",
          "name": "stdout",
          "text": [
            "['kiwi', 'apple', 'watermelon', 'grapes']\n"
          ]
        }
      ]
    },
    {
      "cell_type": "markdown",
      "source": [
        "LIST OF COMPREHENSION"
      ],
      "metadata": {
        "id": "-_qWuvzvIvwo"
      }
    },
    {
      "cell_type": "code",
      "source": [
        "fruit=[\"apple\",\"watermelon\",\"papaya\"]\n",
        "newlist=[x for x in fruit if \"y\" in x]\n",
        "print(newlist)\n",
        "\n",
        "newlist=[x for x in fruit if x !=\"apple\"]\n",
        "print(newlist)\n",
        "\n",
        "newlist=[x for x in fruit]\n",
        "print(newlist)\n",
        "\n",
        "newlist=[x for x in range(11)]\n",
        "print(newlist)\n",
        "\n",
        "newlist=[x for x in range(9) if x<5]\n",
        "print(newlist)\n",
        "\n",
        "newlist=[x.upper()for x in fruit]\n",
        "print(newlist)\n",
        "\n",
        "newlist=['hello' for x in fruit]\n",
        "print(newlist)\n",
        "\n",
        "newlist=[x if x !=\"apple\" else \"papaya\" for x in fruit]\n",
        "print(newlist)\n"
      ],
      "metadata": {
        "colab": {
          "base_uri": "https://localhost:8080/"
        },
        "id": "5b-7goobIz_r",
        "outputId": "70db83b6-7e47-4009-d6bf-ca74478c64fc"
      },
      "execution_count": 34,
      "outputs": [
        {
          "output_type": "stream",
          "name": "stdout",
          "text": [
            "['papaya']\n",
            "['watermelon', 'papaya']\n",
            "['apple', 'watermelon', 'papaya']\n",
            "[0, 1, 2, 3, 4, 5, 6, 7, 8, 9, 10]\n",
            "[0, 1, 2, 3, 4]\n",
            "['APPLE', 'WATERMELON', 'PAPAYA']\n",
            "['hello', 'hello', 'hello']\n",
            "['papaya', 'watermelon', 'papaya']\n"
          ]
        }
      ]
    }
  ]
}