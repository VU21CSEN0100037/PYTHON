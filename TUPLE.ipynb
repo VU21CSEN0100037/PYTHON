{
  "nbformat": 4,
  "nbformat_minor": 0,
  "metadata": {
    "colab": {
      "name": "TUPLE",
      "provenance": [],
      "authorship_tag": "ABX9TyOZH0MyyOG7dfUk5C+CsktE",
      "include_colab_link": true
    },
    "kernelspec": {
      "name": "python3",
      "display_name": "Python 3"
    },
    "language_info": {
      "name": "python"
    }
  },
  "cells": [
    {
      "cell_type": "markdown",
      "metadata": {
        "id": "view-in-github",
        "colab_type": "text"
      },
      "source": [
        "<a href=\"https://colab.research.google.com/github/VU21CSEN0100037/PYTHON/blob/main/TUPLE.ipynb\" target=\"_parent\"><img src=\"https://colab.research.google.com/assets/colab-badge.svg\" alt=\"Open In Colab\"/></a>"
      ]
    },
    {
      "cell_type": "markdown",
      "source": [
        "PYTHON TUPLE"
      ],
      "metadata": {
        "id": "QI7QeOAw4gtN"
      }
    },
    {
      "cell_type": "code",
      "source": [
        "# tuple\n",
        "\n",
        "a=(\"carrot\",\"tomato\",\"brinjal\",\"onion\")\n",
        "print(a)\n"
      ],
      "metadata": {
        "colab": {
          "base_uri": "https://localhost:8080/"
        },
        "id": "zJPc3JotwJsi",
        "outputId": "264f1a32-787c-47a2-f13b-83073d519f2a"
      },
      "execution_count": 3,
      "outputs": [
        {
          "output_type": "stream",
          "name": "stdout",
          "text": [
            "('carrot', 'tomato', 'brinjal', 'onion')\n"
          ]
        }
      ]
    },
    {
      "cell_type": "code",
      "source": [
        "# Duplicates\n",
        "\n",
        "a=(\"carrot\",\"tomato\",\"onion\",\"tomato\",\"bottleguard\",\"carrot\")\n",
        "print(a)"
      ],
      "metadata": {
        "colab": {
          "base_uri": "https://localhost:8080/"
        },
        "id": "ASR8Tyz6wpPN",
        "outputId": "9fbb2574-372c-43f3-9078-ca8d8bebafe9"
      },
      "execution_count": 4,
      "outputs": [
        {
          "output_type": "stream",
          "name": "stdout",
          "text": [
            "('carrot', 'tomato', 'onion', 'tomato', 'bottleguard', 'carrot')\n"
          ]
        }
      ]
    },
    {
      "cell_type": "code",
      "source": [
        "# tuple length\n",
        "\n",
        "a=(\"carrot\",\"tomato\",\"onion\",\"brinjal\")\n",
        "print(len(a))\n",
        "\n",
        "a=(\"carrot,tomato,onion,brinjal\")\n",
        "print(len(a))"
      ],
      "metadata": {
        "colab": {
          "base_uri": "https://localhost:8080/"
        },
        "id": "FQnK101cxH1a",
        "outputId": "b11768a3-4e26-4b18-ef60-de8157af60bf"
      },
      "execution_count": 32,
      "outputs": [
        {
          "output_type": "stream",
          "name": "stdout",
          "text": [
            "4\n",
            "27\n"
          ]
        }
      ]
    },
    {
      "cell_type": "code",
      "source": [
        "# tuple with one item\n",
        "\n",
        "a=(\"brinjal\",\"carrot\",)\n",
        "print(type(a))\n"
      ],
      "metadata": {
        "colab": {
          "base_uri": "https://localhost:8080/"
        },
        "id": "nxFkznJMyL6l",
        "outputId": "98068157-4038-4b07-d324-253571e3f33f"
      },
      "execution_count": 12,
      "outputs": [
        {
          "output_type": "stream",
          "name": "stdout",
          "text": [
            "<class 'tuple'>\n"
          ]
        }
      ]
    },
    {
      "cell_type": "code",
      "source": [
        "#tuple- data types (int,string,boolean)\n",
        "\n",
        "a=(\"onion\",\"carrot\",\"cucumber\")\n",
        "b=(1,2,3,)\n",
        "c=(\"true\",\"true\",\"false\")\n",
        "print(a)\n",
        "print(b)\n",
        "print(c)"
      ],
      "metadata": {
        "colab": {
          "base_uri": "https://localhost:8080/"
        },
        "id": "TEoWZ7HOy4yd",
        "outputId": "b5a9228b-472e-42ee-97c5-2328674ee7e0"
      },
      "execution_count": 35,
      "outputs": [
        {
          "output_type": "stream",
          "name": "stdout",
          "text": [
            "('onion', 'carrot', 'cucumber')\n",
            "(1, 2, 3)\n",
            "('true', 'true', 'false')\n"
          ]
        }
      ]
    },
    {
      "cell_type": "code",
      "source": [
        "# tuple with different data types (int, str, bool)\n",
        "\n",
        "a=(\"onion\",\"true\",0,\"movie\",12,\"girl\")\n",
        "print(a)"
      ],
      "metadata": {
        "colab": {
          "base_uri": "https://localhost:8080/"
        },
        "id": "ObE3mZ4Hznh1",
        "outputId": "c13ac29a-ce46-43a6-d525-28d551815ca7"
      },
      "execution_count": 18,
      "outputs": [
        {
          "output_type": "stream",
          "name": "stdout",
          "text": [
            "('onion', 'true', 0, 'movie', 12, 'girl')\n"
          ]
        }
      ]
    },
    {
      "cell_type": "code",
      "source": [
        "# tuple constructor\n",
        "\n",
        "b=tuple((\"carrot\"))\n",
        "print(b)\n",
        "\n",
        "a=tuple((\"tomato\",\"onion\"))\n",
        "print(a)"
      ],
      "metadata": {
        "colab": {
          "base_uri": "https://localhost:8080/"
        },
        "id": "WUUNSmXf0QpG",
        "outputId": "469802eb-0a86-43c6-bc0d-d80a9b57580e"
      },
      "execution_count": 37,
      "outputs": [
        {
          "output_type": "stream",
          "name": "stdout",
          "text": [
            "('c', 'a', 'r', 'r', 'o', 't')\n",
            "('tomato', 'onion')\n"
          ]
        }
      ]
    },
    {
      "cell_type": "markdown",
      "source": [
        "PYTHON ACCESS TUPLE"
      ],
      "metadata": {
        "id": "7LstBVhx4k78"
      }
    },
    {
      "cell_type": "code",
      "source": [
        "a=(\"black\",\"blue\",\"pink\")\n",
        "print(a[1])\n",
        "\n",
        "#negative indexes\n",
        "a=(\"black\",\"blue\",\"pink\")\n",
        "print(a[-1])"
      ],
      "metadata": {
        "colab": {
          "base_uri": "https://localhost:8080/"
        },
        "id": "slqCOkxx4qhj",
        "outputId": "893d3fce-045e-4a54-f3ac-3b52b3ece1be"
      },
      "execution_count": 40,
      "outputs": [
        {
          "output_type": "stream",
          "name": "stdout",
          "text": [
            "blue\n",
            "pink\n"
          ]
        }
      ]
    },
    {
      "cell_type": "code",
      "source": [
        "#range of indexes\n",
        "\n",
        "a=(\"black\",\"blue\",\"pink\",\"golden\",\"violet\",\"purple\",\"white\")\n",
        "print(a[0:3])\n",
        "print(a[:5])\n",
        "print(a[1:-1])\n",
        "print(a[2:])\n",
        "print(a[-4:-1])"
      ],
      "metadata": {
        "colab": {
          "base_uri": "https://localhost:8080/"
        },
        "id": "GhCAqTYO5nwf",
        "outputId": "e35ab24f-08cf-4aca-d9e8-338ec146edc3"
      },
      "execution_count": 64,
      "outputs": [
        {
          "output_type": "stream",
          "name": "stdout",
          "text": [
            "('black', 'blue', 'pink')\n",
            "('black', 'blue', 'pink', 'golden', 'violet')\n",
            "('blue', 'pink', 'golden', 'violet', 'purple')\n",
            "('pink', 'golden', 'violet', 'purple', 'white')\n",
            "('golden', 'violet', 'purple')\n"
          ]
        }
      ]
    },
    {
      "cell_type": "code",
      "source": [
        "#if\n",
        "\n",
        "a=(\"black\",\"blue\",\"pink\",\"golden\",\"violet\",\"purple\",\"white\")\n",
        "if \"apple\" in a:\n",
        "  print(\"yes\")\n",
        "elif \"banana\" in a:\n",
        "  print(\"no\")\n",
        "elif \"white\":\n",
        "  print(\"yes,white\")"
      ],
      "metadata": {
        "colab": {
          "base_uri": "https://localhost:8080/"
        },
        "id": "szBS7dGmABvo",
        "outputId": "c0900ca6-aa27-47ca-9b8d-597ad12deb1a"
      },
      "execution_count": 79,
      "outputs": [
        {
          "output_type": "stream",
          "name": "stdout",
          "text": [
            "yes,white\n"
          ]
        }
      ]
    },
    {
      "cell_type": "code",
      "source": [
        ""
      ],
      "metadata": {
        "id": "9wRIdwHLEQpn"
      },
      "execution_count": null,
      "outputs": []
    },
    {
      "cell_type": "code",
      "source": [
        ""
      ],
      "metadata": {
        "id": "oOH3Naq85E69"
      },
      "execution_count": null,
      "outputs": []
    }
  ]
}