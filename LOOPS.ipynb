{
  "nbformat": 4,
  "nbformat_minor": 0,
  "metadata": {
    "colab": {
      "name": "LOOPS",
      "provenance": [],
      "authorship_tag": "ABX9TyPV6F+LyCS5LF7/oWXqgQfw",
      "include_colab_link": true
    },
    "kernelspec": {
      "name": "python3",
      "display_name": "Python 3"
    },
    "language_info": {
      "name": "python"
    }
  },
  "cells": [
    {
      "cell_type": "markdown",
      "metadata": {
        "id": "view-in-github",
        "colab_type": "text"
      },
      "source": [
        "<a href=\"https://colab.research.google.com/github/VU21CSEN0100037/PYTHON/blob/main/LOOPS.ipynb\" target=\"_parent\"><img src=\"https://colab.research.google.com/assets/colab-badge.svg\" alt=\"Open In Colab\"/></a>"
      ]
    },
    {
      "cell_type": "code",
      "execution_count": 13,
      "metadata": {
        "colab": {
          "base_uri": "https://localhost:8080/"
        },
        "id": "t5onUNwY2v-q",
        "outputId": "43914931-d642-47d4-ba4c-57c746206994"
      },
      "outputs": [
        {
          "output_type": "stream",
          "name": "stdout",
          "text": [
            "computer\n",
            "laptop\n",
            "TV\n",
            "mobile\n",
            "tab\n"
          ]
        }
      ],
      "source": [
        "# LIST\n",
        "#(for loop)\n",
        "a=[\"computer\",\"laptop\",\"TV\",\"mobile\",\"tab\"]\n",
        "for x in a:\n",
        "  print(x)"
      ]
    },
    {
      "cell_type": "code",
      "source": [
        "#range\n",
        "a=[\"computer\",\"laptop\",\"TV\",\"mobile\",\"tab\"]\n",
        "for i in range(len(a)):\n",
        "  print([i])\n",
        "  print(a[i])"
      ],
      "metadata": {
        "colab": {
          "base_uri": "https://localhost:8080/"
        },
        "id": "4MOeUFlr5Oxs",
        "outputId": "8230ef70-e32f-4cd9-c1cb-60877bdadbbf"
      },
      "execution_count": 14,
      "outputs": [
        {
          "output_type": "stream",
          "name": "stdout",
          "text": [
            "[0]\n",
            "computer\n",
            "[1]\n",
            "laptop\n",
            "[2]\n",
            "TV\n",
            "[3]\n",
            "mobile\n",
            "[4]\n",
            "tab\n"
          ]
        }
      ]
    },
    {
      "cell_type": "code",
      "source": [
        "a=[\"computer\",\"laptop\",\"TV\",\"mobile\",\"tab\"]\n",
        "i = 4\n",
        "while i < len(a):\n",
        "  print(a[i])\n",
        "  i = i + 1"
      ],
      "metadata": {
        "colab": {
          "base_uri": "https://localhost:8080/"
        },
        "id": "oJTRgnRJ5W-u",
        "outputId": "56747cfb-d26f-4e28-f8a7-e10cc23ad774"
      },
      "execution_count": 17,
      "outputs": [
        {
          "output_type": "stream",
          "name": "stdout",
          "text": [
            "tab\n"
          ]
        }
      ]
    },
    {
      "cell_type": "code",
      "source": [
        "a= [\"computer\", \"laptop\", \"TV\", \"mobile\", \"tab\"]\n",
        "[print(x) for x in a]"
      ],
      "metadata": {
        "colab": {
          "base_uri": "https://localhost:8080/"
        },
        "id": "1p6LPk4655Fz",
        "outputId": "5d3b46fa-bd55-4538-a8cb-d8c2ac9e6c49"
      },
      "execution_count": 24,
      "outputs": [
        {
          "output_type": "stream",
          "name": "stdout",
          "text": [
            "computer\n",
            "laptop\n",
            "TV\n",
            "mobile\n",
            "tab\n"
          ]
        },
        {
          "output_type": "execute_result",
          "data": {
            "text/plain": [
              "[None, None, None, None, None]"
            ]
          },
          "metadata": {},
          "execution_count": 24
        }
      ]
    },
    {
      "cell_type": "code",
      "source": [
        "#list comprehension\n",
        "brand=[\"chanel\",\"l'oreal\",\"lakme\",\"maybelline\",\"fitme\"]\n",
        "newlist = []\n",
        "\n",
        "for x in brand:\n",
        "  if \"a\" in x:\n",
        "    newlist.append(x)\n",
        "\n",
        "print(newlist)"
      ],
      "metadata": {
        "colab": {
          "base_uri": "https://localhost:8080/"
        },
        "id": "tIDin34H9nWy",
        "outputId": "f8653188-224a-4923-b4dd-07f61a60a6bb"
      },
      "execution_count": 29,
      "outputs": [
        {
          "output_type": "stream",
          "name": "stdout",
          "text": [
            "['chanel', \"l'oreal\", 'lakme', 'maybelline']\n"
          ]
        }
      ]
    },
    {
      "cell_type": "markdown",
      "source": [
        "LOOP TUPLE"
      ],
      "metadata": {
        "id": "g9KJKU9w_Z9y"
      }
    },
    {
      "cell_type": "code",
      "source": [
        "brand=[\"chanel\",\"l'oreal\",\"lakme\",\"maybelline\",\"fitme\",\"lakme\",\"chanel\"]\n",
        "for x in brand:\n",
        " print(x)"
      ],
      "metadata": {
        "colab": {
          "base_uri": "https://localhost:8080/"
        },
        "id": "svzPW3MU_fiS",
        "outputId": "5625bd2b-bd66-448c-9772-ba6c1f6aa40f"
      },
      "execution_count": 33,
      "outputs": [
        {
          "output_type": "stream",
          "name": "stdout",
          "text": [
            "chanel\n",
            "l'oreal\n",
            "lakme\n",
            "maybelline\n",
            "fitme\n",
            "lakme\n",
            "chanel\n"
          ]
        }
      ]
    },
    {
      "cell_type": "code",
      "source": [
        "brand=[\"chanel\",\"l'oreal\",\"lakme\",\"maybelline\",\"fitme\"]\n",
        "for i in range(len(brand)):\n",
        "  print(brand[i])"
      ],
      "metadata": {
        "colab": {
          "base_uri": "https://localhost:8080/"
        },
        "id": "LhjM1kuAAOna",
        "outputId": "2d85e518-16a2-4ef7-d10e-43439eb4b7f8"
      },
      "execution_count": 36,
      "outputs": [
        {
          "output_type": "stream",
          "name": "stdout",
          "text": [
            "chanel\n",
            "l'oreal\n",
            "lakme\n",
            "maybelline\n",
            "fitme\n"
          ]
        }
      ]
    },
    {
      "cell_type": "code",
      "source": [
        "brand=[\"chanel\",\"l'oreal\",\"lakme\",\"maybelline\",\"fitme\"]\n",
        "i = 0\n",
        "while i < len(brand):\n",
        "  print(brand[i])\n",
        "  i = i + 1\n"
      ],
      "metadata": {
        "colab": {
          "base_uri": "https://localhost:8080/"
        },
        "id": "bRHBo956Am3p",
        "outputId": "a6c59ee0-a5ce-4fc8-86d0-9e51814f90ce"
      },
      "execution_count": 39,
      "outputs": [
        {
          "output_type": "stream",
          "name": "stdout",
          "text": [
            "chanel\n",
            "l'oreal\n",
            "lakme\n",
            "maybelline\n",
            "fitme\n"
          ]
        }
      ]
    },
    {
      "cell_type": "markdown",
      "source": [
        "SET"
      ],
      "metadata": {
        "id": "SxKRQ6OKCaAz"
      }
    },
    {
      "cell_type": "code",
      "source": [
        "physics={\"speed\",\"distance\",\"time\",\"accleration\",\"time\"}\n",
        "print(physics)\n",
        "\n",
        "#len\n",
        "physics={\"speed\",\"distance\",\"time\",\"accleration\",\"time\"}\n",
        "print(len(physics))\n",
        "\n",
        "physics={\"speed\",\"distance\",\"time\",\"accleration\",\"time\"}\n",
        "numbers = {1, 5, 7, 9, 3}\n",
        "alphabets = {True, False, False}\n",
        "print(physics,numbers,alphabets)\n",
        "\n",
        "physics={\"speed\",\"true\",27,\"speed\",\"false\",\"icecream\"}\n",
        "print(physics)\n",
        "\n",
        "physics={\"speed\",\"distance\",\"time\",\"accleration\",\"time\"}\n",
        "print(type(physics))\n",
        "\n",
        "physics = set((\"speed\",\"distance\",\"time\"))\n",
        "print(physics)"
      ],
      "metadata": {
        "colab": {
          "base_uri": "https://localhost:8080/"
        },
        "id": "PNvmwvFdCb7a",
        "outputId": "055d0448-4af5-471d-df32-72f81263d1d0"
      },
      "execution_count": 57,
      "outputs": [
        {
          "output_type": "stream",
          "name": "stdout",
          "text": [
            "{'distance', 'accleration', 'speed', 'time'}\n",
            "4\n",
            "{'distance', 'accleration', 'speed', 'time'} {1, 3, 5, 7, 9} {False, True}\n",
            "{'icecream', 'speed', 'true', 'false', 27}\n",
            "<class 'set'>\n",
            "{'distance', 'speed', 'time'}\n"
          ]
        }
      ]
    }
  ]
}