{
  "nbformat": 4,
  "nbformat_minor": 0,
  "metadata": {
    "colab": {
      "name": "MODULE 2",
      "provenance": [],
      "authorship_tag": "ABX9TyPbTvrim9M/nQWXLxSOQbht",
      "include_colab_link": true
    },
    "kernelspec": {
      "name": "python3",
      "display_name": "Python 3"
    },
    "language_info": {
      "name": "python"
    }
  },
  "cells": [
    {
      "cell_type": "markdown",
      "metadata": {
        "id": "view-in-github",
        "colab_type": "text"
      },
      "source": [
        "<a href=\"https://colab.research.google.com/github/VU21CSEN0100037/PYTHON/blob/main/MODULE_2.ipynb\" target=\"_parent\"><img src=\"https://colab.research.google.com/assets/colab-badge.svg\" alt=\"Open In Colab\"/></a>"
      ]
    },
    {
      "cell_type": "code",
      "execution_count": 10,
      "metadata": {
        "colab": {
          "base_uri": "https://localhost:8080/",
          "height": 130
        },
        "id": "VV5Ws-Jyo9sC",
        "outputId": "fe7e066d-23d5-41f1-a06b-82ff42a10ba7"
      },
      "outputs": [
        {
          "output_type": "error",
          "ename": "IndentationError",
          "evalue": "ignored",
          "traceback": [
            "\u001b[0;36m  File \u001b[0;32m\"<ipython-input-10-c960090f587e>\"\u001b[0;36m, line \u001b[0;32m9\u001b[0m\n\u001b[0;31m    return res\u001b[0m\n\u001b[0m              ^\u001b[0m\n\u001b[0;31mIndentationError\u001b[0m\u001b[0;31m:\u001b[0m unindent does not match any outer indentation level\n"
          ]
        }
      ],
      "source": [
        "def nCr(a,b):\n",
        "  return(fact(a)/(fact(b)*fact(a-b)))\n",
        "a=int(input(\"\"))\n",
        "b=int(input(\"\"))\n",
        "def fact(a):\n",
        " res=1\n",
        " for i in range(2,a+1):\n",
        "      res=res*1\n",
        "  return res\n",
        "print(int(nCr(a,b)))"
      ]
    }
  ]
}