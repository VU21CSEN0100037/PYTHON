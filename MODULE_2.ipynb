{
  "nbformat": 4,
  "nbformat_minor": 0,
  "metadata": {
    "colab": {
      "name": "MODULE 2",
      "provenance": [],
      "authorship_tag": "ABX9TyPtqojo/ZXK3K1W3gIoubzk",
      "include_colab_link": true
    },
    "kernelspec": {
      "name": "python3",
      "display_name": "Python 3"
    },
    "language_info": {
      "name": "python"
    }
  },
  "cells": [
    {
      "cell_type": "markdown",
      "metadata": {
        "id": "view-in-github",
        "colab_type": "text"
      },
      "source": [
        "<a href=\"https://colab.research.google.com/github/VU21CSEN0100037/PYTHON/blob/main/MODULE_2.ipynb\" target=\"_parent\"><img src=\"https://colab.research.google.com/assets/colab-badge.svg\" alt=\"Open In Colab\"/></a>"
      ]
    },
    {
      "cell_type": "code",
      "execution_count": null,
      "metadata": {
        "colab": {
          "base_uri": "https://localhost:8080/",
          "height": 130
        },
        "id": "VV5Ws-Jyo9sC",
        "outputId": "fe7e066d-23d5-41f1-a06b-82ff42a10ba7"
      },
      "outputs": [
        {
          "output_type": "error",
          "ename": "IndentationError",
          "evalue": "ignored",
          "traceback": [
            "\u001b[0;36m  File \u001b[0;32m\"<ipython-input-10-c960090f587e>\"\u001b[0;36m, line \u001b[0;32m9\u001b[0m\n\u001b[0;31m    return res\u001b[0m\n\u001b[0m              ^\u001b[0m\n\u001b[0;31mIndentationError\u001b[0m\u001b[0;31m:\u001b[0m unindent does not match any outer indentation level\n"
          ]
        }
      ],
      "source": [
        "def nCr(a,b):\n",
        "  return(fact(a)/(fact(b)*fact(a-b)))\n",
        "a=int(input(\"\"))\n",
        "b=int(input(\"\"))\n",
        "def fact(a):\n",
        " res=1\n",
        " for i in range(2,a+1):\n",
        "      res=res*1\n",
        "  return res\n",
        "print(int(nCr(a,b)))"
      ]
    },
    {
      "cell_type": "markdown",
      "source": [
        " Create a function which accepts two inputs from the user and compute n\n",
        "Cr"
      ],
      "metadata": {
        "id": "p_Oc69uV5vsy"
      }
    },
    {
      "cell_type": "code",
      "source": [
        "def fact(i):\n",
        " if i>0:\n",
        "   return i*fact(i-1)\n",
        " else:\n",
        "  return 1\n",
        "def comb(n,r):\n",
        " return (fact(n)/((fact(n-r))*fact(r)))\n",
        "a=int(input('a='))\n",
        "b=int(input('b='))\n",
        "comb(a,b)"
      ],
      "metadata": {
        "colab": {
          "base_uri": "https://localhost:8080/"
        },
        "id": "V4DVNzh66PVh",
        "outputId": "9d172785-4d58-4fb7-e7da-6a0bd9be8254"
      },
      "execution_count": 8,
      "outputs": [
        {
          "name": "stdout",
          "output_type": "stream",
          "text": [
            "a=9\n",
            "b=6\n"
          ]
        },
        {
          "output_type": "execute_result",
          "data": {
            "text/plain": [
              "84.0"
            ]
          },
          "metadata": {},
          "execution_count": 8
        }
      ]
    },
    {
      "cell_type": "markdown",
      "source": [
        "Program to get the difference between the two lists"
      ],
      "metadata": {
        "id": "w9EaZrcW7pE9"
      }
    },
    {
      "cell_type": "code",
      "source": [
        "a_list=[9,6,3,5,7,1,8,4,9,5,3,6,5,8,7,6]\n",
        "b_list=[5,9,4,8,3,6,7,2,5,9,4,8,3,9]\n",
        "x=set(a_list)\n",
        "y=set(b_list)\n",
        "z1=x.difference(y)\n",
        "z2=y.difference(x)\n",
        "print(list(z1))\n",
        "print(list(z2))"
      ],
      "metadata": {
        "colab": {
          "base_uri": "https://localhost:8080/"
        },
        "id": "e6yEX1s67p1c",
        "outputId": "0056d74d-09d0-4127-958b-79aa79109d13"
      },
      "execution_count": 18,
      "outputs": [
        {
          "output_type": "stream",
          "name": "stdout",
          "text": [
            "[1]\n",
            "[2]\n"
          ]
        }
      ]
    },
    {
      "cell_type": "markdown",
      "source": [
        "Program to find the second smallest number and second largest number in a list."
      ],
      "metadata": {
        "id": "7ZjITWXs-z4D"
      }
    },
    {
      "cell_type": "code",
      "source": [
        "num1_list=[2,1,9,0,9,57,963,348,94]\n",
        "num1_list.sort()\n",
        "print(num1_list)\n",
        "print(\"second smallest num in the given list is: \",num1_list[1])\n",
        "print(\"second largest num in the given list is: \",num1_list[len(num1_list)-2])\n",
        "[2,1,9,0,9,57,963,348,94]"
      ],
      "metadata": {
        "colab": {
          "base_uri": "https://localhost:8080/"
        },
        "id": "qB2vB00v-172",
        "outputId": "0df1fba0-31db-45bf-ac86-f8f91a5e5c92"
      },
      "execution_count": 17,
      "outputs": [
        {
          "output_type": "stream",
          "name": "stdout",
          "text": [
            "[0, 1, 2, 9, 9, 57, 94, 348, 963]\n",
            "The second smallest number in the given list is:  1\n",
            "The second largest number in the given list is:  348\n"
          ]
        },
        {
          "output_type": "execute_result",
          "data": {
            "text/plain": [
              "[2, 1, 9, 0, 9, 57, 963, 348, 94]"
            ]
          },
          "metadata": {},
          "execution_count": 17
        }
      ]
    },
    {
      "cell_type": "markdown",
      "source": [
        "Given list of tuples, remove all the tuples with length K.\n",
        "Input : test_list = [(4, 5), (4, ), (8, 6, 7), (1, ), (3, 4, 6, 7)], K = 2\n",
        "Output : [(4, ), (8, 6, 7), (1, ), (3, 4, 6, 7)]\n",
        "Explanation : (4, 5) of len = 2 is removed."
      ],
      "metadata": {
        "id": "NjRyOhkRCzuP"
      }
    },
    {
      "cell_type": "code",
      "source": [
        "test_list = [(4, 5), (4, ), (8, 6, 7), (1, ), (3, 4, 6, 7)]\n",
        "new_list=[]\n",
        "K=2\n",
        "for x in test_list:\n",
        " if len(x)!=K:\n",
        "   new_list.append(x)\n",
        "print(\"The filtered list without containing any element of tupple length '2' is:\",new_list)"
      ],
      "metadata": {
        "colab": {
          "base_uri": "https://localhost:8080/"
        },
        "id": "r1b-hu0rC57W",
        "outputId": "1d23276d-cc2a-4f78-c19b-67c1114942f4"
      },
      "execution_count": 36,
      "outputs": [
        {
          "output_type": "stream",
          "name": "stdout",
          "text": [
            "The filtered list without containing any element of tupple length '2' is: [(4,), (8, 6, 7), (1,), (3, 4, 6, 7)]\n"
          ]
        }
      ]
    },
    {
      "cell_type": "markdown",
      "source": [
        "Given a list of numbers of list, write a Python program to create a list of tuples\n",
        "having first element as the number and second element as the square of the\n",
        "number."
      ],
      "metadata": {
        "id": "ZQ44Pua6FJ06"
      }
    },
    {
      "cell_type": "code",
      "source": [
        "a_list=[3,86,4,56,12]\n",
        "result=[(x,x**2) for x in a_list]\n",
        "print(\"The required list is: \",result)"
      ],
      "metadata": {
        "colab": {
          "base_uri": "https://localhost:8080/"
        },
        "id": "PROOHmuZFTY0",
        "outputId": "6a0c2f01-a656-41e2-fa62-750938578f67"
      },
      "execution_count": 37,
      "outputs": [
        {
          "output_type": "stream",
          "name": "stdout",
          "text": [
            "The required list is:  [(3, 9), (86, 7396), (4, 16), (56, 3136), (12, 144)]\n"
          ]
        }
      ]
    },
    {
      "cell_type": "markdown",
      "source": [
        "Program to remove a key from a dictionary"
      ],
      "metadata": {
        "id": "LTnjpTt3L37u"
      }
    },
    {
      "cell_type": "code",
      "source": [
        "makeup={\n",
        "  'brand': 'maybelline',\n",
        " 'product':'lip gloss',\n",
        " 'colour':'pale pink ',\n",
        " 'cost':150\n",
        "}\n",
        "makeup.pop('product')\n",
        "print(makeup)\n",
        "del makeup['cost']\n",
        "print(makeup)\n",
        "{'brand': 'maybelline', 'colour': 'pale pink', 'cost': 150}"
      ],
      "metadata": {
        "colab": {
          "base_uri": "https://localhost:8080/"
        },
        "id": "Ztn9Nv9iLzvP",
        "outputId": "870d3d92-b7db-4463-90ff-9b8c096c7ddc"
      },
      "execution_count": 45,
      "outputs": [
        {
          "output_type": "stream",
          "name": "stdout",
          "text": [
            "{'brand': 'maybelline', 'colour': 'pale pink ', 'cost': 150}\n",
            "{'brand': 'maybelline', 'colour': 'pale pink '}\n"
          ]
        },
        {
          "output_type": "execute_result",
          "data": {
            "text/plain": [
              "{'brand': 'maybelline', 'colour': 'pale pink', 'cost': 150}"
            ]
          },
          "metadata": {},
          "execution_count": 45
        }
      ]
    },
    {
      "cell_type": "markdown",
      "source": [
        "Program to get the maximum and minimum value in a dictionary"
      ],
      "metadata": {
        "id": "8d8tJO8LN06S"
      }
    },
    {
      "cell_type": "code",
      "source": [
        "the_dictionary={\n",
        " 'a':27, 'b':33, 'c':96, 'd':12\n",
        " }\n",
        "max_value=max(the_dictionary, key=the_dictionary.get)\n",
        "min_value=min(the_dictionary, key=the_dictionary.get)\n",
        "print(\"The max value in the given dictionary has a key: '\"+max_value+\"' and its value is:\",the_dictionary[max_value])\n",
        "print(\"The min value in the given dictionary has a key: '\"+min_value+\"' and its value is:\",the_dictionary[min_value])"
      ],
      "metadata": {
        "colab": {
          "base_uri": "https://localhost:8080/"
        },
        "id": "M3u5V1ZNNkFl",
        "outputId": "aee76d26-4b02-43b6-eb92-61099459afa8"
      },
      "execution_count": 47,
      "outputs": [
        {
          "output_type": "stream",
          "name": "stdout",
          "text": [
            "The max value in the given dictionary has a key: 'c' and its value is: 96\n",
            "The min value in the given dictionary has a key: 'd' and its value is: 12\n"
          ]
        }
      ]
    },
    {
      "cell_type": "markdown",
      "source": [
        "Program to perform operations on string using unicodes ,splitting of string,accessing\n",
        "elements of string using locations"
      ],
      "metadata": {
        "id": "OEXjimcuOmDw"
      }
    }
  ]
}