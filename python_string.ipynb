{
  "nbformat": 4,
  "nbformat_minor": 0,
  "metadata": {
    "colab": {
      "name": "python string",
      "provenance": [],
      "authorship_tag": "ABX9TyOizNVe8H1KlKR8MCTKHoy0",
      "include_colab_link": true
    },
    "kernelspec": {
      "name": "python3",
      "display_name": "Python 3"
    },
    "language_info": {
      "name": "python"
    }
  },
  "cells": [
    {
      "cell_type": "markdown",
      "metadata": {
        "id": "view-in-github",
        "colab_type": "text"
      },
      "source": [
        "<a href=\"https://colab.research.google.com/github/VU21CSEN0100037/PYTHON/blob/main/python_string.ipynb\" target=\"_parent\"><img src=\"https://colab.research.google.com/assets/colab-badge.svg\" alt=\"Open In Colab\"/></a>"
      ]
    },
    {
      "cell_type": "code",
      "execution_count": 1,
      "metadata": {
        "colab": {
          "base_uri": "https://localhost:8080/"
        },
        "id": "kGbdCa0DW4J_",
        "outputId": "9e15c290-d9da-4bf2-90c3-7acdea9eb334"
      },
      "outputs": [
        {
          "output_type": "stream",
          "name": "stdout",
          "text": [
            "harshitha\n"
          ]
        }
      ],
      "source": [
        "a=\"harshitha\"\n",
        "print(a)"
      ]
    },
    {
      "cell_type": "code",
      "source": [
        "a=\"harshitha, klara\"\n",
        "print(a.upper())"
      ],
      "metadata": {
        "colab": {
          "base_uri": "https://localhost:8080/"
        },
        "id": "cLjdItHtYTi5",
        "outputId": "c491d0e1-c6cf-42ac-b2a5-33847236d639"
      },
      "execution_count": 22,
      "outputs": [
        {
          "output_type": "stream",
          "name": "stdout",
          "text": [
            "HARSHITHA, KLARA\n"
          ]
        }
      ]
    },
    {
      "cell_type": "code",
      "source": [
        "a=\"HARSHI, KLARA\"\n",
        "print(a.lower())"
      ],
      "metadata": {
        "colab": {
          "base_uri": "https://localhost:8080/"
        },
        "id": "k5FgZjnTY09w",
        "outputId": "b6a8de4f-3454-4654-a6cc-ef6a8ba1d8de"
      },
      "execution_count": 4,
      "outputs": [
        {
          "output_type": "stream",
          "name": "stdout",
          "text": [
            "harshi, klara\n"
          ]
        }
      ]
    },
    {
      "cell_type": "code",
      "source": [
        "a=\"   harshitha,  klara     \"\n",
        "print(a.strip())"
      ],
      "metadata": {
        "colab": {
          "base_uri": "https://localhost:8080/"
        },
        "id": "3NJPLxpLZBuQ",
        "outputId": "e4f6ad7d-e8f6-4cb5-aa78-d92b84a975dc"
      },
      "execution_count": 21,
      "outputs": [
        {
          "output_type": "stream",
          "name": "stdout",
          "text": [
            "harshitha,  klara\n"
          ]
        }
      ]
    },
    {
      "cell_type": "code",
      "source": [
        "a=\"harshitha, klara\"\n",
        "print(a.replace(\"h\",\"y\"))"
      ],
      "metadata": {
        "colab": {
          "base_uri": "https://localhost:8080/"
        },
        "id": "M-dClU0sZqXo",
        "outputId": "865ed8c5-9ead-4d60-d812-d50b2e274b21"
      },
      "execution_count": 16,
      "outputs": [
        {
          "output_type": "stream",
          "name": "stdout",
          "text": [
            "yarsyitya, klara\n"
          ]
        }
      ]
    },
    {
      "cell_type": "code",
      "source": [
        "a=\"good morning, hi\"\n",
        "print(a.split(\"r\"))"
      ],
      "metadata": {
        "colab": {
          "base_uri": "https://localhost:8080/"
        },
        "id": "IEK80gGDaZhC",
        "outputId": "30db4ac0-6163-43e6-8173-4a57d2194d26"
      },
      "execution_count": 29,
      "outputs": [
        {
          "output_type": "stream",
          "name": "stdout",
          "text": [
            "['good mo', 'ning, hi']\n"
          ]
        }
      ]
    },
    {
      "cell_type": "code",
      "source": [
        "a=\"kiwi,mango,lichy\"\n",
        "print(a.split(\",\"))"
      ],
      "metadata": {
        "colab": {
          "base_uri": "https://localhost:8080/"
        },
        "id": "ZIfQrYObdfJU",
        "outputId": "eddbc38c-15a5-4b70-8e27-7729fcb2666f"
      },
      "execution_count": 31,
      "outputs": [
        {
          "output_type": "stream",
          "name": "stdout",
          "text": [
            "['kiwi', 'mango', 'lichy']\n"
          ]
        }
      ]
    },
    {
      "cell_type": "code",
      "source": [
        "a=\"always\"\n",
        "b=\" and forever\"\n",
        "c=a+b\n",
        "print(c)"
      ],
      "metadata": {
        "colab": {
          "base_uri": "https://localhost:8080/"
        },
        "id": "yEyi7Fx6d-np",
        "outputId": "b7f0acee-9e89-4cea-e97f-073e4a972327"
      },
      "execution_count": 42,
      "outputs": [
        {
          "output_type": "stream",
          "name": "stdout",
          "text": [
            "always and forever\n"
          ]
        }
      ]
    },
    {
      "cell_type": "code",
      "source": [
        "quantity = 6\n",
        "itemno = 271\n",
        "price = 60\n",
        "myorder = \"I want {1} pieces of item {2} for {0} dollars.\"\n",
        "print(myorder.format(quantity, itemno, price))\n"
      ],
      "metadata": {
        "colab": {
          "base_uri": "https://localhost:8080/"
        },
        "id": "iaAc2fjfj4C3",
        "outputId": "29877d1c-7035-4a19-dff8-df375e96dbdd"
      },
      "execution_count": 51,
      "outputs": [
        {
          "output_type": "stream",
          "name": "stdout",
          "text": [
            "I want 271 pieces of item 60 for 6 dollars.\n"
          ]
        }
      ]
    },
    {
      "cell_type": "code",
      "source": [
        "marks=77\n",
        "grade= \"c\"\n",
        "myreportcard= \"i got {} marks and {} grade.\"\n",
        "print(myreportcard.format(marks,grade))"
      ],
      "metadata": {
        "colab": {
          "base_uri": "https://localhost:8080/"
        },
        "id": "ZYLVNvtQlFqR",
        "outputId": "44510f47-f956-4d16-d93f-b2a4b721b2ed"
      },
      "execution_count": 56,
      "outputs": [
        {
          "output_type": "stream",
          "name": "stdout",
          "text": [
            "i got 77 marks and c grade.\n"
          ]
        }
      ]
    },
    {
      "cell_type": "code",
      "source": [
        "a=\"beautiful\\nday\"\n",
        "print(a)"
      ],
      "metadata": {
        "colab": {
          "base_uri": "https://localhost:8080/"
        },
        "id": "xRatHsThnteM",
        "outputId": "f7046e2a-b83d-4911-a5bc-47b9159cfc8d"
      },
      "execution_count": 73,
      "outputs": [
        {
          "output_type": "stream",
          "name": "stdout",
          "text": [
            "beautiful\n",
            "day\n"
          ]
        }
      ]
    },
    {
      "cell_type": "code",
      "source": [
        "a=\"harshitha\"\n",
        "b=a.capitalize()\n",
        "print(b)"
      ],
      "metadata": {
        "colab": {
          "base_uri": "https://localhost:8080/"
        },
        "id": "9EZCiTf4q-dQ",
        "outputId": "8edd14cb-60de-4aad-b896-dcc684858b92"
      },
      "execution_count": 72,
      "outputs": [
        {
          "output_type": "stream",
          "name": "stdout",
          "text": [
            "Harshitha\n"
          ]
        }
      ]
    },
    {
      "cell_type": "code",
      "source": [
        "a=\"harshitha\"\n",
        "b=a.center(2)\n",
        "print(b)"
      ],
      "metadata": {
        "colab": {
          "base_uri": "https://localhost:8080/"
        },
        "id": "J9LkRwxnryv5",
        "outputId": "19c0c1a4-f995-40bc-e4ec-a304fde45dc1"
      },
      "execution_count": 75,
      "outputs": [
        {
          "output_type": "stream",
          "name": "stdout",
          "text": [
            "harshitha\n"
          ]
        }
      ]
    },
    {
      "cell_type": "code",
      "source": [
        "a=\"HARSHITHA\"\n",
        "b=a.casefold()\n",
        "print(b)"
      ],
      "metadata": {
        "colab": {
          "base_uri": "https://localhost:8080/"
        },
        "id": "gwrZfwe5sFFK",
        "outputId": "a2ddb64c-9537-4525-f482-9b09bc59d704"
      },
      "execution_count": 76,
      "outputs": [
        {
          "output_type": "stream",
          "name": "stdout",
          "text": [
            "harshitha\n"
          ]
        }
      ]
    },
    {
      "cell_type": "code",
      "source": [
        "a=\"harshitha\"\n",
        "b=a.count(\"\")\n",
        "print(b)"
      ],
      "metadata": {
        "colab": {
          "base_uri": "https://localhost:8080/"
        },
        "id": "6ndc2mogsOu6",
        "outputId": "dae8e523-2c27-4dfa-b2aa-63e02763d0c3"
      },
      "execution_count": 77,
      "outputs": [
        {
          "output_type": "stream",
          "name": "stdout",
          "text": [
            "10\n"
          ]
        }
      ]
    }
  ]
}