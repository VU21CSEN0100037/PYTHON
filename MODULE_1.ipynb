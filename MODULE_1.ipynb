{
  "nbformat": 4,
  "nbformat_minor": 0,
  "metadata": {
    "colab": {
      "name": "MODULE 1",
      "provenance": [],
      "authorship_tag": "ABX9TyON2qH0NXIZIAmnMyPcC6wt",
      "include_colab_link": true
    },
    "kernelspec": {
      "name": "python3",
      "display_name": "Python 3"
    },
    "language_info": {
      "name": "python"
    }
  },
  "cells": [
    {
      "cell_type": "markdown",
      "metadata": {
        "id": "view-in-github",
        "colab_type": "text"
      },
      "source": [
        "<a href=\"https://colab.research.google.com/github/VU21CSEN0100037/PYTHON/blob/main/MODULE_1.ipynb\" target=\"_parent\"><img src=\"https://colab.research.google.com/assets/colab-badge.svg\" alt=\"Open In Colab\"/></a>"
      ]
    },
    {
      "cell_type": "markdown",
      "source": [
        "Accept input from user and store it in variable and print the value."
      ],
      "metadata": {
        "id": "9q3azaHbdUlZ"
      }
    },
    {
      "cell_type": "code",
      "source": [
        "a=300\n",
        "b=200\n",
        "c=int(input())\n",
        "d=int(input())\n",
        "e=a-(b)-(c)-(d)\n",
        "print(e)"
      ],
      "metadata": {
        "colab": {
          "base_uri": "https://localhost:8080/"
        },
        "id": "wHYQBlybdeMu",
        "outputId": "320a9277-604a-4326-a3a0-039fd0815bfb"
      },
      "execution_count": null,
      "outputs": [
        {
          "output_type": "stream",
          "name": "stdout",
          "text": [
            "50\n",
            "40\n",
            "10\n"
          ]
        }
      ]
    },
    {
      "cell_type": "markdown",
      "source": [
        "Use of print statements and use of (.format )for printing different data types"
      ],
      "metadata": {
        "id": "OE6emFnXfQto"
      }
    },
    {
      "cell_type": "code",
      "source": [
        "quantity=5\n",
        "itemno=111\n",
        "price=200\n",
        "myorder =\"i want {} pieces of itemno {} for {} rupees.\"\n",
        "print(myorder.format(quantity,itemno,price))\n"
      ],
      "metadata": {
        "colab": {
          "base_uri": "https://localhost:8080/"
        },
        "id": "DNq4MpDzfSc-",
        "outputId": "ebe9a49a-d269-47d6-a676-0ed758f8b4e2"
      },
      "execution_count": null,
      "outputs": [
        {
          "output_type": "stream",
          "name": "stdout",
          "text": [
            "i want 5 pieces of itemno 111 for 200 rupees.\n"
          ]
        }
      ]
    },
    {
      "cell_type": "markdown",
      "source": [
        "Take 2 numbers as user input and add, multiply, divide, subtract, remainder and print\n",
        "the output "
      ],
      "metadata": {
        "id": "vAQzPOu6haFP"
      }
    },
    {
      "cell_type": "code",
      "source": [
        "a=int(input(\"enter a number\"))\n",
        "b=int(input(\"enter a number\"))\n",
        "sum=a+b\n",
        "print(sum)\n",
        "subt=a-b\n",
        "print(subt)\n",
        "multi=a*b\n",
        "print(multi)\n",
        "div=a/b\n",
        "print(div)\n",
        "rem=a%b\n",
        "print(rem)\n",
        "print(type(a))"
      ],
      "metadata": {
        "colab": {
          "base_uri": "https://localhost:8080/"
        },
        "id": "9kk9WIJphhGu",
        "outputId": "8a477dd4-9db8-48ee-edf6-39eff66a8b49"
      },
      "execution_count": null,
      "outputs": [
        {
          "output_type": "stream",
          "name": "stdout",
          "text": [
            "enter a number80\n",
            "enter a number50\n",
            "130\n",
            "30\n",
            "4000\n",
            "1.6\n",
            "30\n",
            "<class 'int'>\n"
          ]
        }
      ]
    },
    {
      "cell_type": "markdown",
      "source": [
        "Same operations on floating point input as well"
      ],
      "metadata": {
        "id": "cCrEt8SoimNn"
      }
    },
    {
      "cell_type": "code",
      "source": [
        "a=9.6\n",
        "b=5.3\n",
        "sum=a+b\n",
        "print(sum)\n",
        "subt=a-b\n",
        "print(subt)\n",
        "multi=a*b\n",
        "print(multi)\n",
        "div=a/b\n",
        "print(div)\n",
        "rem=a%b\n",
        "print(rem)\n",
        "print(type(a))"
      ],
      "metadata": {
        "colab": {
          "base_uri": "https://localhost:8080/"
        },
        "id": "xh_e-T6ii53H",
        "outputId": "20fe69f9-e725-42ae-bbe7-dfe5b6e6a6dd"
      },
      "execution_count": null,
      "outputs": [
        {
          "output_type": "stream",
          "name": "stdout",
          "text": [
            "14.899999999999999\n",
            "4.3\n",
            "50.879999999999995\n",
            "1.8113207547169812\n",
            "4.3\n",
            "<class 'float'>\n"
          ]
        }
      ]
    },
    {
      "cell_type": "markdown",
      "source": [
        "Conversion of one unit to another (such as hours to minutes, miles to km and etc)"
      ],
      "metadata": {
        "id": "e2hyR56OkFvH"
      }
    },
    {
      "cell_type": "code",
      "source": [
        "kilometers = float(input(\"Enter value in kilometers: \"))\n",
        "conv_fac = 0.621371\n",
        "miles = kilometers * conv_fac\n",
        "print('%0.2f kilometers is equal to %0.2f miles' %(kilometers,miles))"
      ],
      "metadata": {
        "colab": {
          "base_uri": "https://localhost:8080/"
        },
        "id": "B_DhU4xKkGdX",
        "outputId": "7d44de53-c74a-4ca7-b2bc-4f2287a0ed90"
      },
      "execution_count": null,
      "outputs": [
        {
          "output_type": "stream",
          "name": "stdout",
          "text": [
            "Enter value in kilometers: 1000\n",
            "1000.00 kilometers is equal to 621.37 miles\n"
          ]
        }
      ]
    },
    {
      "cell_type": "markdown",
      "source": [
        "Accepting 5 different subject marks from user and displaying the grade of the student."
      ],
      "metadata": {
        "id": "LZwCncukpreB"
      }
    },
    {
      "cell_type": "code",
      "source": [
        "a=float(input(\"enter a 1st subject number\"))\n",
        "b=float(input(\"enter a 2nd subject number\"))\n",
        "c=float(input(\"enter a 3rd subject number\"))\n",
        "d=float(input(\"enter a 4th subject number\"))\n",
        "e=float(input(\"enter a 5th subject number\"))\n",
        "f=(a+b+c+d+e)/5\n",
        "if f>90:\n",
        "  print(\"grade A\")\n",
        "elif f>80 and f<90:\n",
        "  print(\"grade B\")\n",
        "elif f>70 and f<80:\n",
        "  print(\"grade C\")\n",
        "elif f<70:\n",
        "  print(\"grade D\")"
      ],
      "metadata": {
        "colab": {
          "base_uri": "https://localhost:8080/"
        },
        "id": "x4mEsqlSpvSR",
        "outputId": "638964e7-1837-4d24-ffbe-deef8c40428d"
      },
      "execution_count": 28,
      "outputs": [
        {
          "output_type": "stream",
          "name": "stdout",
          "text": [
            "enter a 1st subject number55.3\n",
            "enter a 2nd subject number88.3\n",
            "enter a 3rd subject number95.2\n",
            "enter a 4th subject number49.2\n",
            "enter a 5th subject number99\n",
            "grade C\n"
          ]
        }
      ]
    },
    {
      "cell_type": "code",
      "source": [
        ""
      ],
      "metadata": {
        "id": "n3VKz5jsq8Au"
      },
      "execution_count": null,
      "outputs": []
    }
  ]
}