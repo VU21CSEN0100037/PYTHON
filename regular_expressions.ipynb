{
  "nbformat": 4,
  "nbformat_minor": 0,
  "metadata": {
    "colab": {
      "name": "regular expressions",
      "provenance": [],
      "authorship_tag": "ABX9TyPNYB3a7Wd3L+ZxYL0Tcl2l",
      "include_colab_link": true
    },
    "kernelspec": {
      "name": "python3",
      "display_name": "Python 3"
    },
    "language_info": {
      "name": "python"
    }
  },
  "cells": [
    {
      "cell_type": "markdown",
      "metadata": {
        "id": "view-in-github",
        "colab_type": "text"
      },
      "source": [
        "<a href=\"https://colab.research.google.com/github/VU21CSEN0100037/PYTHON/blob/main/regular_expressions.ipynb\" target=\"_parent\"><img src=\"https://colab.research.google.com/assets/colab-badge.svg\" alt=\"Open In Colab\"/></a>"
      ]
    },
    {
      "cell_type": "code",
      "execution_count": null,
      "metadata": {
        "colab": {
          "base_uri": "https://localhost:8080/"
        },
        "id": "Xlp5Wl5SJaON",
        "outputId": "adc2b529-8f57-4a0c-8603-e536677e38ca"
      },
      "outputs": [
        {
          "output_type": "stream",
          "name": "stdout",
          "text": [
            "no i won't\n"
          ]
        }
      ],
      "source": [
        "import re\n",
        "text=(\"i want icecream and chocolate\")\n",
        "x=re.search(\"^The.*chocolate$\", text)\n",
        "if x:\n",
        "  print(\"yes, i want\")\n",
        "else:\n",
        "  print(\"no i won't\")"
      ]
    },
    {
      "cell_type": "code",
      "source": [
        "import re\n",
        "text=(\"Diwali: Festival of Lights.  It's a five-day celebration that includes good food, fireworks, colored sand, and special candles and lamps. \")\n",
        "x = re.findall(\"[a-m]\", text)\n",
        "print(x)"
      ],
      "metadata": {
        "colab": {
          "base_uri": "https://localhost:8080/"
        },
        "id": "w-cLnwgrMlue",
        "outputId": "a8b3274c-b85b-4821-8e8b-adc05a181784"
      },
      "execution_count": null,
      "outputs": [
        {
          "output_type": "stream",
          "name": "stdout",
          "text": [
            "['i', 'a', 'l', 'i', 'e', 'i', 'a', 'l', 'f', 'i', 'g', 'h', 'a', 'f', 'i', 'e', 'd', 'a', 'c', 'e', 'l', 'e', 'b', 'a', 'i', 'h', 'a', 'i', 'c', 'l', 'd', 'e', 'g', 'd', 'f', 'd', 'f', 'i', 'e', 'k', 'c', 'l', 'e', 'd', 'a', 'd', 'a', 'd', 'e', 'c', 'i', 'a', 'l', 'c', 'a', 'd', 'l', 'e', 'a', 'd', 'l', 'a', 'm']\n"
          ]
        }
      ]
    },
    {
      "cell_type": "code",
      "source": [
        "import re\n",
        "text=(\"In India, one of the most significant festivals is Diwali, or the Festival of Lights.Diwali is celebrated on dec 24th.\")\n",
        "x = re.findall(\"\\d\", text)\n",
        "print(x)"
      ],
      "metadata": {
        "colab": {
          "base_uri": "https://localhost:8080/"
        },
        "id": "_pC6rHFQNPmG",
        "outputId": "4e78d61e-469c-451c-eb0a-b3b12a83e54e"
      },
      "execution_count": null,
      "outputs": [
        {
          "output_type": "stream",
          "name": "stdout",
          "text": [
            "['2', '4']\n"
          ]
        }
      ]
    },
    {
      "cell_type": "code",
      "source": [
        "import re\n",
        "text=(\"jupiter is the largest planet on solar system\")\n",
        "x = re.findall(\"ju....r\", text)\n",
        "print(x)\n"
      ],
      "metadata": {
        "colab": {
          "base_uri": "https://localhost:8080/"
        },
        "id": "9A46579yN6tm",
        "outputId": "788a068e-ac57-4aa2-ef37-121bfa17aed3"
      },
      "execution_count": null,
      "outputs": [
        {
          "output_type": "stream",
          "name": "stdout",
          "text": [
            "['jupiter']\n"
          ]
        }
      ]
    },
    {
      "cell_type": "code",
      "source": [
        "import re\n",
        "text = \"if you are not willing to learn no one can help you. if you are determined to learn no one can stop you\"\n",
        "#Check if the string starts with 'hello':\n",
        "x = re.findall(\"^to\", text)\n",
        "if x:\n",
        "  print(\"Yes, the string starts with 'if'\")\n",
        "else:\n",
        "  print(\"No willing\")\n"
      ],
      "metadata": {
        "colab": {
          "base_uri": "https://localhost:8080/"
        },
        "id": "7C8TolMSO_Dn",
        "outputId": "31057580-68d7-47ef-f2cc-408a833e1a3d"
      },
      "execution_count": null,
      "outputs": [
        {
          "output_type": "stream",
          "name": "stdout",
          "text": [
            "No willing\n"
          ]
        }
      ]
    },
    {
      "cell_type": "code",
      "source": [
        "import re\n",
        "text = \"The num of 1's in each row equals the dregree of corresponding vertex\"\n",
        "#Check if the string starts with \"The\":\n",
        "x = re.findall(\"\\AThe\", text)\n",
        "print(x)\n",
        "if x:\n",
        "  print(\"Yes\")\n",
        "else:\n",
        "  print(\"No \")"
      ],
      "metadata": {
        "colab": {
          "base_uri": "https://localhost:8080/"
        },
        "id": "jrBLzPuPPw8G",
        "outputId": "5022a819-23bb-4e47-f062-eb856d1df139"
      },
      "execution_count": null,
      "outputs": [
        {
          "output_type": "stream",
          "name": "stdout",
          "text": [
            "['The']\n",
            "Yes\n"
          ]
        }
      ]
    },
    {
      "cell_type": "code",
      "source": [
        "import re\n",
        "txt = \"The more you get, more you lose\"\n",
        "x = re.findall(\"\\D\", txt)\n",
        "print(x)\n",
        "if x:\n",
        "  print(\"Yes, there is at least one match!\")\n",
        "else:\n",
        "  print(\"No match\")"
      ],
      "metadata": {
        "colab": {
          "base_uri": "https://localhost:8080/"
        },
        "id": "SdU0v7IeSlq2",
        "outputId": "8697bc09-5a95-44c4-a955-a82ee8281686"
      },
      "execution_count": null,
      "outputs": [
        {
          "output_type": "stream",
          "name": "stdout",
          "text": [
            "['T', 'h', 'e', ' ', 'm', 'o', 'r', 'e', ' ', 'y', 'o', 'u', ' ', 'g', 'e', 't', ',', ' ', 'm', 'o', 'r', 'e', ' ', 'y', 'o', 'u', ' ', 'l', 'o', 's', 'e']\n",
            "Yes, there is at least one match!\n"
          ]
        }
      ]
    },
    {
      "cell_type": "code",
      "source": [
        "# $ using for ending\n",
        "import re\n",
        "text = \"carrot is very healthy vegetable. it increases our blood cells and makes our skin fair.\"\n",
        "x = re.findall(\"fair$\", text)\n",
        "if x:\n",
        "  print(\"Yes, the string ends with 'fair'\")\n",
        "else:\n",
        "  print(\"No match\")"
      ],
      "metadata": {
        "colab": {
          "base_uri": "https://localhost:8080/"
        },
        "id": "Mkj32gSD3P4K",
        "outputId": "92f0037b-5097-43a5-d38c-ab5e0c769964"
      },
      "execution_count": null,
      "outputs": [
        {
          "output_type": "stream",
          "name": "stdout",
          "text": [
            "No match\n"
          ]
        }
      ]
    },
    {
      "cell_type": "code",
      "source": [
        "import re\n",
        "text = \"mercury is the first planet on our universe\"\n",
        "x = re.findall(\"mer.*y\", text)\n",
        "print(x)"
      ],
      "metadata": {
        "colab": {
          "base_uri": "https://localhost:8080/"
        },
        "id": "OjJuzMhzsR7i",
        "outputId": "779ebb01-98b2-49a6-e6b7-a5620029137a"
      },
      "execution_count": null,
      "outputs": [
        {
          "output_type": "stream",
          "name": "stdout",
          "text": [
            "['mercury']\n"
          ]
        }
      ]
    },
    {
      "cell_type": "code",
      "source": [
        "import re\n",
        "text = \"venus the planet\"\n",
        "x = re.findall(\"ve.+s\", text)\n",
        "print(x)"
      ],
      "metadata": {
        "colab": {
          "base_uri": "https://localhost:8080/"
        },
        "id": "rtxrTSJRs6l7",
        "outputId": "a51c44bf-f398-42df-a0a8-0ce7b0d1f1a1"
      },
      "execution_count": null,
      "outputs": [
        {
          "output_type": "stream",
          "name": "stdout",
          "text": [
            "['venus']\n"
          ]
        }
      ]
    },
    {
      "cell_type": "code",
      "source": [
        "import re\n",
        "txt = \"falls and halls are ryming words\"\n",
        "x = re.findall(\"fa.?s\", txt)\n",
        "print(x)\n"
      ],
      "metadata": {
        "colab": {
          "base_uri": "https://localhost:8080/"
        },
        "id": "rQ8k9meruG5Y",
        "outputId": "c2224854-17da-4bb1-e7a3-a45bee943725"
      },
      "execution_count": null,
      "outputs": [
        {
          "output_type": "stream",
          "name": "stdout",
          "text": [
            "[]\n"
          ]
        }
      ]
    },
    {
      "cell_type": "code",
      "source": [
        "import re\n",
        "txt = \"milky bar chocki is available in VR mall\"\n",
        "x = re.findall(\"mi.{2}y\", txt)\n",
        "print(x)"
      ],
      "metadata": {
        "colab": {
          "base_uri": "https://localhost:8080/"
        },
        "id": "ktG5z5NGvJCo",
        "outputId": "a985df47-bd6e-40e3-a86e-8845a5730454"
      },
      "execution_count": null,
      "outputs": [
        {
          "output_type": "stream",
          "name": "stdout",
          "text": [
            "['milky']\n"
          ]
        }
      ]
    },
    {
      "cell_type": "code",
      "source": [
        "import re\n",
        "txt = \"stay foolish to stay sane\"\n",
        "x = re.findall(\"fall|stay\", txt)\n",
        "print(x)\n",
        "if x:\n",
        "  print(\"Yes, there is at least one match!\")\n",
        "else:\n",
        "  print(\"No match\")"
      ],
      "metadata": {
        "colab": {
          "base_uri": "https://localhost:8080/"
        },
        "id": "ns6RojUGzLNQ",
        "outputId": "c07c6189-55d7-439d-ea4e-93fb13320328"
      },
      "execution_count": null,
      "outputs": [
        {
          "output_type": "stream",
          "name": "stdout",
          "text": [
            "['stay', 'stay']\n",
            "Yes, there is at least one match!\n"
          ]
        }
      ]
    },
    {
      "cell_type": "code",
      "source": [
        "import re\n",
        "txt = \"Mary kom is my one of my inspirataion people\"\n",
        "x = re.findall(\"\\AMary\", txt)\n",
        "print(x)\n",
        "if x:\n",
        "  print(\"Yes, there is a match!\")\n",
        "else:\n",
        "  print(\"No match\")"
      ],
      "metadata": {
        "colab": {
          "base_uri": "https://localhost:8080/"
        },
        "id": "SpmxUmQ1zLLs",
        "outputId": "c58c44eb-3f31-4df8-ecab-d4dfde4a09e6"
      },
      "execution_count": null,
      "outputs": [
        {
          "output_type": "stream",
          "name": "stdout",
          "text": [
            "['Mary']\n",
            "Yes, there is a match!\n"
          ]
        }
      ]
    },
    {
      "cell_type": "code",
      "source": [
        "import re\n",
        "txt = \"save trees, save water\"\n",
        "#Check if \"ain\" is present at the beginning of a WORD:\n",
        "x = re.findall(r\"\\save\", txt)\n",
        "print(x)\n",
        "if x:\n",
        "  print(\"Yes, there is at least one match!\")\n",
        "else:\n",
        "  print(\"No match\")"
      ],
      "metadata": {
        "colab": {
          "base_uri": "https://localhost:8080/"
        },
        "id": "b7U6tkK23Jbe",
        "outputId": "1bf408fd-e26f-4946-b4b1-f43bc03eb316"
      },
      "execution_count": null,
      "outputs": [
        {
          "output_type": "stream",
          "name": "stdout",
          "text": [
            "[]\n",
            "No match\n"
          ]
        }
      ]
    }
  ]
}