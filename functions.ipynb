{
  "nbformat": 4,
  "nbformat_minor": 0,
  "metadata": {
    "colab": {
      "name": "functions",
      "provenance": [],
      "authorship_tag": "ABX9TyNjpMA9wW/AW13G5w2aYFH+",
      "include_colab_link": true
    },
    "kernelspec": {
      "name": "python3",
      "display_name": "Python 3"
    },
    "language_info": {
      "name": "python"
    }
  },
  "cells": [
    {
      "cell_type": "markdown",
      "metadata": {
        "id": "view-in-github",
        "colab_type": "text"
      },
      "source": [
        "<a href=\"https://colab.research.google.com/github/VU21CSEN0100037/PYTHON/blob/main/functions.ipynb\" target=\"_parent\"><img src=\"https://colab.research.google.com/assets/colab-badge.svg\" alt=\"Open In Colab\"/></a>"
      ]
    },
    {
      "cell_type": "code",
      "source": [
        "def harshi_function():\n",
        " print(\"peace \")\n",
        "harshi_function()"
      ],
      "metadata": {
        "colab": {
          "base_uri": "https://localhost:8080/"
        },
        "id": "6Hwj0subVJQK",
        "outputId": "36d43441-2136-4ea8-be0f-e8b5f2c856d7"
      },
      "execution_count": null,
      "outputs": [
        {
          "output_type": "stream",
          "name": "stdout",
          "text": [
            "peace \n"
          ]
        }
      ]
    },
    {
      "cell_type": "code",
      "source": [
        "def food_function(dish, biriyani):\n",
        "  print(dish+\" curry\"+biriyani+\" rice\")\n",
        "(\"Panner\",\" vegetable\")\n"
      ],
      "metadata": {
        "colab": {
          "base_uri": "https://localhost:8080/"
        },
        "id": "QeBrHsT-WVJT",
        "outputId": "9472db93-44dd-4c4f-f7e0-dea29df39a31"
      },
      "execution_count": null,
      "outputs": [
        {
          "output_type": "execute_result",
          "data": {
            "text/plain": [
              "('Panner', ' vegetable')"
            ]
          },
          "metadata": {},
          "execution_count": 38
        }
      ]
    },
    {
      "cell_type": "code",
      "source": [
        "def vehicle_function(*types):\n",
        "  print(\"i bought\"+types[2])\n",
        "vehicle_function(\" car\",\" ship\",\" flight\")"
      ],
      "metadata": {
        "colab": {
          "base_uri": "https://localhost:8080/"
        },
        "id": "SLhg2xWXccFj",
        "outputId": "6de621a6-0e6e-44cf-8c1f-0073c13c6ef6"
      },
      "execution_count": null,
      "outputs": [
        {
          "output_type": "stream",
          "name": "stdout",
          "text": [
            "i bought flight\n"
          ]
        }
      ]
    },
    {
      "cell_type": "code",
      "source": [
        "def vote_function(name,age,gender):\n",
        " print(\"name:\"+\"\"+name)\n",
        " print(\"age:\"+\"\"+age)\n",
        " print(\"gender:\"+\"\"+gender)\n",
        "vote_function(\"harshi\",\"18\",\"fermale\")\n"
      ],
      "metadata": {
        "colab": {
          "base_uri": "https://localhost:8080/"
        },
        "id": "UdOYdHL8ecBy",
        "outputId": "aa0fa583-5941-4626-88da-8f89631495fd"
      },
      "execution_count": null,
      "outputs": [
        {
          "output_type": "stream",
          "name": "stdout",
          "text": [
            "name:harshi\n",
            "age:18\n",
            "gender:fermale\n"
          ]
        }
      ]
    },
    {
      "cell_type": "code",
      "source": [
        "def notebook_function(class1,class2,class3):\n",
        "  print(\"i want\"+class1)\n",
        "notebook_function(class1=\" eng book\",class2=\" maths book\",class3=\" bio book\")\n"
      ],
      "metadata": {
        "colab": {
          "base_uri": "https://localhost:8080/"
        },
        "id": "BzjjXdFnjalv",
        "outputId": "e124f201-1fc6-4875-a9e9-60c55f3f6d08"
      },
      "execution_count": 9,
      "outputs": [
        {
          "output_type": "stream",
          "name": "stdout",
          "text": [
            "i want eng book\n"
          ]
        }
      ]
    }
  ]
}