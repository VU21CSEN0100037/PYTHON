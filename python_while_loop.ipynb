{
  "nbformat": 4,
  "nbformat_minor": 0,
  "metadata": {
    "colab": {
      "name": "python while loop",
      "provenance": [],
      "collapsed_sections": [],
      "authorship_tag": "ABX9TyMIVX3YwhQ9+Qq5jkWok0/k",
      "include_colab_link": true
    },
    "kernelspec": {
      "name": "python3",
      "display_name": "Python 3"
    },
    "language_info": {
      "name": "python"
    }
  },
  "cells": [
    {
      "cell_type": "markdown",
      "metadata": {
        "id": "view-in-github",
        "colab_type": "text"
      },
      "source": [
        "<a href=\"https://colab.research.google.com/github/VU21CSEN0100037/PYTHON/blob/main/python_while_loop.ipynb\" target=\"_parent\"><img src=\"https://colab.research.google.com/assets/colab-badge.svg\" alt=\"Open In Colab\"/></a>"
      ]
    },
    {
      "cell_type": "code",
      "execution_count": 10,
      "metadata": {
        "colab": {
          "base_uri": "https://localhost:8080/"
        },
        "id": "n_DOp2PyMls5",
        "outputId": "e79a5a8e-f5d7-4723-c98e-70030cc78365"
      },
      "outputs": [
        {
          "output_type": "stream",
          "name": "stdout",
          "text": [
            "enter the n:6\n",
            "the sum is 1\n",
            "the sum is 3\n",
            "the sum is 6\n",
            "the sum is 10\n",
            "the sum is 15\n",
            "the sum is 21\n",
            "the sum is 28\n",
            "the sum is 36\n",
            "the sum is 45\n",
            "the sum is 55\n"
          ]
        }
      ],
      "source": [
        "n=int(input(\"enter the n:\"))\n",
        "n=10\n",
        "sum=0\n",
        "i=1\n",
        "while i<=n:\n",
        "      sum = sum+i\n",
        "      i = i+1\n",
        "      print(\"the sum is\",sum)\n",
        "\n"
      ]
    }
  ]
}