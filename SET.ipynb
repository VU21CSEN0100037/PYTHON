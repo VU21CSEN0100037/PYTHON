{
  "nbformat": 4,
  "nbformat_minor": 0,
  "metadata": {
    "colab": {
      "name": "SET",
      "provenance": [],
      "authorship_tag": "ABX9TyPsaaUsxQC594FRXgh96uM/",
      "include_colab_link": true
    },
    "kernelspec": {
      "name": "python3",
      "display_name": "Python 3"
    },
    "language_info": {
      "name": "python"
    }
  },
  "cells": [
    {
      "cell_type": "markdown",
      "metadata": {
        "id": "view-in-github",
        "colab_type": "text"
      },
      "source": [
        "<a href=\"https://colab.research.google.com/github/VU21CSEN0100037/PYTHON/blob/main/SET.ipynb\" target=\"_parent\"><img src=\"https://colab.research.google.com/assets/colab-badge.svg\" alt=\"Open In Colab\"/></a>"
      ]
    },
    {
      "cell_type": "markdown",
      "source": [
        "BASIC SET PROGRAMS"
      ],
      "metadata": {
        "id": "0kJfDBRpLrlU"
      }
    },
    {
      "cell_type": "code",
      "source": [
        "a={\"diamond\",\"gold\",\"plantium\",\"sliver\",\"copper\"}\n",
        "print(a)\n",
        "\n",
        "a={\"diamond\",\"gold\",\"plantium\",\"sliver\",\"copper\",\"gold\",\"diamond\"}\n",
        "print(len(a))"
      ],
      "metadata": {
        "colab": {
          "base_uri": "https://localhost:8080/"
        },
        "id": "OBQzdcTzNEQD",
        "outputId": "9a28bdd8-8060-42ea-c665-bbc2effdfc79"
      },
      "execution_count": 2,
      "outputs": [
        {
          "output_type": "stream",
          "name": "stdout",
          "text": [
            "{'copper', 'gold', 'diamond', 'plantium', 'sliver'}\n",
            "5\n"
          ]
        }
      ]
    },
    {
      "cell_type": "markdown",
      "source": [
        "int,boolean,string"
      ],
      "metadata": {
        "id": "M5yHPzyxO1v5"
      }
    },
    {
      "cell_type": "code",
      "source": [
        "a={\"gold\",\"plantium\",\"diamond\"}\n",
        "b={10,20,30}\n",
        "c={\"true\",\"false\",\"true\"}\n",
        "print(a,b,c)\n",
        "\n",
        "a={\"gold\",27,\"true\",\"gold\"}\n",
        "print(a)\n",
        "\n",
        "a={\"diamond\",\"gold\",\"plantium\",\"sliver\",\"copper\"}\n",
        "print(type(a))\n",
        "\n",
        "a=set((\"diamond\",\"gold\",\"plantium\",\"sliver\",\"copper\"))\n",
        "print(a)\n"
      ],
      "metadata": {
        "colab": {
          "base_uri": "https://localhost:8080/"
        },
        "id": "JfTtBc-1O6WB",
        "outputId": "3320f576-7958-4c9d-a555-307d658d1c4e"
      },
      "execution_count": 7,
      "outputs": [
        {
          "output_type": "stream",
          "name": "stdout",
          "text": [
            "{'plantium', 'gold', 'diamond'} {10, 20, 30} {'true', 'false'}\n",
            "{27, 'true', 'gold'}\n",
            "<class 'set'>\n",
            "{'copper', 'gold', 'diamond', 'plantium', 'sliver'}\n"
          ]
        }
      ]
    },
    {
      "cell_type": "markdown",
      "source": [
        "ACCESS SET\n",
        "ACCESS & LOOP ARE SAME"
      ],
      "metadata": {
        "id": "xyp0Z-9BQTMg"
      }
    },
    {
      "cell_type": "code",
      "source": [
        "a = {\"diamond\",\"gold\",\"plantium\",\"sliver\",\"copper\"}\n",
        "for x in a:\n",
        " print(x)\n",
        "\n",
        "#checking ragi\n",
        "a={\"diamond\",\"gold\",\"plantium\",\"sliver\",\"copper\"}\n",
        "print(\"gold\" in a)\n",
        "print(\"ragi\" in a)"
      ],
      "metadata": {
        "colab": {
          "base_uri": "https://localhost:8080/"
        },
        "id": "Cz2CD8sPQYlg",
        "outputId": "7fdc7813-59e4-4e90-eae1-a0c58278ef17"
      },
      "execution_count": 15,
      "outputs": [
        {
          "output_type": "stream",
          "name": "stdout",
          "text": [
            "copper\n",
            "gold\n",
            "diamond\n",
            "plantium\n",
            "sliver\n",
            "True\n",
            "False\n"
          ]
        }
      ]
    },
    {
      "cell_type": "markdown",
      "source": [
        "ADD SET ITEMS"
      ],
      "metadata": {
        "id": "hyqg3JzRRuEh"
      }
    },
    {
      "cell_type": "code",
      "source": [
        "a={\"diamond\",\"gold\",\"plantium\",\"sliver\",\"copper\"}\n",
        "a.add(\"ragi\")\n",
        "print(a)"
      ],
      "metadata": {
        "colab": {
          "base_uri": "https://localhost:8080/"
        },
        "id": "_b9k6318RxkI",
        "outputId": "e278072b-7e0f-429a-8750-996990edaf85"
      },
      "execution_count": 20,
      "outputs": [
        {
          "output_type": "stream",
          "name": "stdout",
          "text": [
            "{'copper', 'gold', 'ragi', 'diamond', 'plantium', 'sliver'}\n"
          ]
        }
      ]
    },
    {
      "cell_type": "markdown",
      "source": [
        "UPDATE & UNION & INTERSECTION"
      ],
      "metadata": {
        "id": "9NkhjZDOSSv4"
      }
    },
    {
      "cell_type": "code",
      "source": [
        "a={\"diamond\",\"gold\",\"plantium\",\"sliver\",\"copper\"}\n",
        "b={\"ruby\",\"emeraid\"}\n",
        "a.update(b)\n",
        "print(a)\n",
        "\n",
        "#union\n",
        "a={\"diamond\",\"gold\",\"plantium\",\"sliver\",\"copper\"}\n",
        "b={\"ruby\",\"pearl\",\"titanium\"}\n",
        "c=a.union(b)\n",
        "print(c)\n",
        "\n",
        "#intersection_update\n",
        "a={\"diamond\",\"gold\",\"plantium\",\"sliver\",\"copper\"}\n",
        "b={\"ruby\",\"pearl\",\"titanium\",\"diamond\"}\n",
        "a.intersection_update(b)\n",
        "print(a)\n",
        "\n",
        "#intersection()\n",
        "a={\"diamond\",\"gold\",\"plantium\",\"sliver\",\"copper\"}\n",
        "b={\"ruby\",\"pearl\",\"titanium\",\"copper\"}\n",
        "c=a.intersection(b)\n",
        "print(c)\n",
        "\n",
        "#symmetric_difference_update\n",
        "a={\"diamond\",\"gold\",\"plantium\",\"sliver\",\"copper\"}\n",
        "b={\"ruby\",\"pearl\",\"titanium\",\"mercury\"}\n",
        "a.symmetric_difference_update(b)\n",
        "print(a)\n",
        "\n",
        "\n",
        "#symmetric_difference\n",
        "a={\"diamond\",\"gold\",\"plantium\",\"sliver\",\"copper\"}\n",
        "b={\"ruby\",\"pearl\",\"titanium\",\"steel\"}\n",
        "s=a.symmetric_difference(b)\n",
        "print(s)  \n",
        "\n",
        "\n",
        "#ITERABLE(\"tuple\",\"list\",\"dict\")\n",
        "a={\"diamond\",\"gold\",\"plantium\",\"sliver\",\"copper\"}\n",
        "b=[\"ruby\",\"embraid\"]\n",
        "c=(\"titanium\",\"pearl\")\n",
        "a.update(b,c)\n",
        "print(a)"
      ],
      "metadata": {
        "colab": {
          "base_uri": "https://localhost:8080/"
        },
        "id": "boSzmtI3SUS4",
        "outputId": "dc3dd71b-6fa1-4f67-fb06-33e474c6cd6f"
      },
      "execution_count": 57,
      "outputs": [
        {
          "output_type": "stream",
          "name": "stdout",
          "text": [
            "{'ruby', 'emeraid', 'copper', 'gold', 'diamond', 'plantium', 'sliver'}\n",
            "{'plantium', 'ruby', 'copper', 'pearl', 'gold', 'titanium', 'sliver', 'diamond'}\n",
            "{'diamond'}\n",
            "{'copper'}\n",
            "{'ruby', 'copper', 'gold', 'mercury', 'diamond', 'plantium', 'pearl', 'titanium', 'sliver'}\n",
            "{'ruby', 'copper', 'gold', 'plantium', 'pearl', 'steel', 'titanium', 'sliver', 'diamond'}\n",
            "{'ruby', 'copper', 'gold', 'embraid', 'diamond', 'plantium', 'titanium', 'pearl', 'sliver'}\n"
          ]
        }
      ]
    },
    {
      "cell_type": "markdown",
      "source": [
        "REMOVE SET ITEMS"
      ],
      "metadata": {
        "id": "yHAjjQc3Uh6f"
      }
    },
    {
      "cell_type": "code",
      "source": [
        "a={\"diamond\",\"gold\",\"plantium\",\"sliver\",\"copper\"}\n",
        "a.discard(\"copper\")\n",
        "a.remove(\"sliver\")\n",
        "print(a)\n",
        "\n",
        "#pop\n",
        "a={\"diamond\",\"gold\",\"plantium\",\"sliver\",\"copper\"}\n",
        "x=a.pop()\n",
        "print(x)\n",
        "print(a)\n",
        "\n",
        "#clear\n",
        "a={\"diamond\",\"gold\",\"plantium\",\"sliver\",\"copper\"}\n",
        "a.clear()\n",
        "print(a)\n",
        "\n",
        "#del\n",
        "a={\"diamond\",\"gold\",\"plantium\",\"sliver\",\"copper\"}\n",
        "del a"
      ],
      "metadata": {
        "colab": {
          "base_uri": "https://localhost:8080/"
        },
        "id": "zz-RzD27UlTI",
        "outputId": "44eedcab-3d46-4302-8761-101dd16d6679"
      },
      "execution_count": 38,
      "outputs": [
        {
          "output_type": "stream",
          "name": "stdout",
          "text": [
            "{'gold', 'diamond', 'plantium'}\n",
            "copper\n",
            "{'gold', 'diamond', 'plantium', 'sliver'}\n",
            "set()\n"
          ]
        }
      ]
    },
    {
      "cell_type": "code",
      "source": [
        "a={\"diamond\",\"gold\",\"plantium\",\"sliver\",\"copper\"}\n",
        "del a"
      ],
      "metadata": {
        "id": "gU4B3I1jXMMn"
      },
      "execution_count": 42,
      "outputs": []
    }
  ]
}