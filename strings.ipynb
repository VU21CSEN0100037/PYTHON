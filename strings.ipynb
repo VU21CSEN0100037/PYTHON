{
  "nbformat": 4,
  "nbformat_minor": 0,
  "metadata": {
    "colab": {
      "name": "strings",
      "provenance": [],
      "authorship_tag": "ABX9TyNTU1aIrid3tX02WxiFBb60",
      "include_colab_link": true
    },
    "kernelspec": {
      "name": "python3",
      "display_name": "Python 3"
    },
    "language_info": {
      "name": "python"
    }
  },
  "cells": [
    {
      "cell_type": "markdown",
      "metadata": {
        "id": "view-in-github",
        "colab_type": "text"
      },
      "source": [
        "<a href=\"https://colab.research.google.com/github/VU21CSEN0100037/PYTHON/blob/main/strings.ipynb\" target=\"_parent\"><img src=\"https://colab.research.google.com/assets/colab-badge.svg\" alt=\"Open In Colab\"/></a>"
      ]
    },
    {
      "cell_type": "markdown",
      "source": [
        "strings"
      ],
      "metadata": {
        "id": "l3SLAXkW4lIC"
      }
    },
    {
      "cell_type": "code",
      "source": [
        "a=\"rose\"\n",
        "print(a)\n",
        "a='''jasmine'''\n",
        "print(a)\n",
        "\n",
        "#strings are arrays\n",
        "a = \"rose,jasmine!\"\n",
        "print(a[6])\n",
        "\n",
        "#Looping Through a String\n",
        "for a in \"lotus\":\n",
        " print(a)\n"
      ],
      "metadata": {
        "colab": {
          "base_uri": "https://localhost:8080/"
        },
        "id": "FNI_pm2y4nhy",
        "outputId": "5ee738b2-12e2-476e-eef9-4340ed0ca971"
      },
      "execution_count": 11,
      "outputs": [
        {
          "output_type": "stream",
          "name": "stdout",
          "text": [
            "rose\n",
            "jasmine\n",
            "a\n",
            "l\n",
            "o\n",
            "t\n",
            "u\n",
            "s\n"
          ]
        }
      ]
    },
    {
      "cell_type": "markdown",
      "source": [
        "string length"
      ],
      "metadata": {
        "id": "V1Kh2Rfx6HCp"
      }
    },
    {
      "cell_type": "code",
      "source": [
        " #length\n",
        " a=\"lily\"\n",
        " print(len(a))"
      ],
      "metadata": {
        "colab": {
          "base_uri": "https://localhost:8080/"
        },
        "id": "UQn0TZik6LUu",
        "outputId": "b372f005-5b59-449c-ceb0-92f767111803"
      },
      "execution_count": 12,
      "outputs": [
        {
          "output_type": "stream",
          "name": "stdout",
          "text": [
            "4\n"
          ]
        }
      ]
    },
    {
      "cell_type": "markdown",
      "source": [
        "check string"
      ],
      "metadata": {
        "id": "jPcQtEyM6SQW"
      }
    },
    {
      "cell_type": "code",
      "source": [
        "text=\"choose to shine\"\n",
        "print(\"shine\" in text)\n",
        "print(\"lily\" in text)\n",
        "\n",
        "text = \"choose to shine\"\n",
        "if \"shine\" in text:\n",
        "  print(\"Yes, 'shine' is present.\")\n",
        "\n",
        "\n",
        "text = \"choose to shine\"\n",
        "print(\"bright\" not in text)\n",
        "print(\"moon\" in text)\n",
        "\n",
        "text = \"choose to shine\"\n",
        "if \"star\" not in text:\n",
        "  print(\"No, 'star' is NOT present.\")\n"
      ],
      "metadata": {
        "colab": {
          "base_uri": "https://localhost:8080/"
        },
        "id": "9yyuGfH36Wke",
        "outputId": "0dded02c-2f8a-43d4-b2c3-b007d1f88b5a"
      },
      "execution_count": 24,
      "outputs": [
        {
          "output_type": "stream",
          "name": "stdout",
          "text": [
            "True\n",
            "False\n",
            "Yes, 'shine' is present.\n",
            "True\n",
            "False\n",
            "No, 'star' is NOT present.\n"
          ]
        }
      ]
    },
    {
      "cell_type": "markdown",
      "source": [
        "SLICING"
      ],
      "metadata": {
        "id": "-Tp928DA9VC5"
      }
    },
    {
      "cell_type": "code",
      "source": [
        "a = \"honey,money\"\n",
        "print(a[2:5])\n",
        "\n",
        "#slice from start\n",
        "a = \"honey,money\"\n",
        "print(a[:4])\n",
        "\n",
        "#slice from end\n",
        "a = \"honey,money\"\n",
        "print(a[1:])\n",
        "\n",
        "#negative indexing\n",
        "a = \"honey,money\"\n",
        "print(a[-3:-1])"
      ],
      "metadata": {
        "colab": {
          "base_uri": "https://localhost:8080/"
        },
        "id": "JB1cSiYJ9axQ",
        "outputId": "976a4aca-cf07-48f3-fdc9-67c8db07acdb"
      },
      "execution_count": 32,
      "outputs": [
        {
          "output_type": "stream",
          "name": "stdout",
          "text": [
            "ney\n",
            "hone\n",
            "oney,money\n",
            "ne\n"
          ]
        }
      ]
    },
    {
      "cell_type": "markdown",
      "source": [
        "Modify Strings"
      ],
      "metadata": {
        "id": "vOAIismk-Q0w"
      }
    },
    {
      "cell_type": "code",
      "source": [
        "#upper case\n",
        "a = \"be a voice a echo\"\n",
        "print(a.upper())\n",
        "\n",
        "#lower case\n",
        "a = \"BE A VOICE A ECHO\"\n",
        "print(a.lower())\n",
        "\n",
        "#Remove Whitespace\n",
        "a = \"     be a voice a echo \"\n",
        "print(a.strip()) \n",
        "\n",
        "#replace string\n",
        "a=\"Be a Voice a Echo\"\n",
        "print(a.replace(\"E\",\"B\"))\n",
        "\n",
        "#slipt string\n",
        "a=\"be a voice a echo\"\n",
        "print(a.split(\",\")) "
      ],
      "metadata": {
        "colab": {
          "base_uri": "https://localhost:8080/"
        },
        "id": "3oQSVItf-WLf",
        "outputId": "e508d679-3b69-449c-87e7-28bbe1b02948"
      },
      "execution_count": 40,
      "outputs": [
        {
          "output_type": "stream",
          "name": "stdout",
          "text": [
            "BE A VOICE A ECHO\n",
            "be a voice a echo\n",
            "be a voice a echo\n",
            "Be a Voice a Bcho\n",
            "['be a voice a echo']\n"
          ]
        }
      ]
    },
    {
      "cell_type": "markdown",
      "source": [
        "String Concatenation"
      ],
      "metadata": {
        "id": "g37ItTr1__J9"
      }
    },
    {
      "cell_type": "code",
      "source": [
        "a=\"cup\"\n",
        "b=\"board\"\n",
        "c=a+b\n",
        "print(c)\n",
        "\n",
        "a=\"water\"\n",
        "b=\"bottle\"\n",
        "c=a+\" \"+b\n",
        "print(c)"
      ],
      "metadata": {
        "colab": {
          "base_uri": "https://localhost:8080/"
        },
        "id": "MmeD_HVxASYL",
        "outputId": "b0c730fe-2a8c-4abd-8fb3-de979f12ea30"
      },
      "execution_count": 43,
      "outputs": [
        {
          "output_type": "stream",
          "name": "stdout",
          "text": [
            "cupboard\n",
            "water bottle\n"
          ]
        }
      ]
    },
    {
      "cell_type": "markdown",
      "source": [
        "string format "
      ],
      "metadata": {
        "id": "bRs2Cs2dA4K1"
      }
    },
    {
      "cell_type": "code",
      "source": [
        "age=\"27\"\n",
        "line=\"born to be young\"+age\n",
        "print(line)\n",
        "\n",
        "#format()\n",
        "age = 27\n",
        "txt = \"born to be young {}\"\n",
        "print(txt.format(age))\n",
        "\n",
        "\n",
        "quantity = 7\n",
        "itemno = 378\n",
        "price = 70.5\n",
        "myorder = \"I want {} pieces of item {} for {} rupees.\"\n",
        "print(myorder.format(quantity, itemno, price))\n",
        "\n",
        "quantity = 8\n",
        "itemno = 700\n",
        "price = 50\n",
        "myorder = \"I want to pay {2} rupees for {0} pieces of item {1}.\"\n",
        "print(myorder.format(quantity, itemno, price))"
      ],
      "metadata": {
        "colab": {
          "base_uri": "https://localhost:8080/"
        },
        "id": "w5bOAYNcA7ky",
        "outputId": "ef5ee28b-109e-4760-be54-f9e26ce890ff"
      },
      "execution_count": 52,
      "outputs": [
        {
          "output_type": "stream",
          "name": "stdout",
          "text": [
            "born to be young27\n",
            "born to be young 27\n",
            "I want 7 pieces of item 378 for 70.5 rupees.\n",
            "I want to pay 50 rupees for 8 pieces of item 700.\n"
          ]
        }
      ]
    },
    {
      "cell_type": "markdown",
      "source": [
        "escape character"
      ],
      "metadata": {
        "id": "hRbMunEqCk4P"
      }
    },
    {
      "cell_type": "code",
      "source": [
        "text = \"hope is the last\"quote\" thing ever lost.\""
      ],
      "metadata": {
        "colab": {
          "base_uri": "https://localhost:8080/",
          "height": 130
        },
        "id": "uQyRqVDaCns-",
        "outputId": "28996162-44d4-4508-8824-f2b61a1f317c"
      },
      "execution_count": 55,
      "outputs": [
        {
          "output_type": "error",
          "ename": "SyntaxError",
          "evalue": "ignored",
          "traceback": [
            "\u001b[0;36m  File \u001b[0;32m\"<ipython-input-55-6c38019f0c81>\"\u001b[0;36m, line \u001b[0;32m1\u001b[0m\n\u001b[0;31m    text = \"hope is the last\"quote\" thing ever lost.\"\u001b[0m\n\u001b[0m                                 ^\u001b[0m\n\u001b[0;31mSyntaxError\u001b[0m\u001b[0;31m:\u001b[0m invalid syntax\n"
          ]
        }
      ]
    },
    {
      "cell_type": "code",
      "source": [
        "text = \"hope is the last\\\"quote\\\" thing ever lost.\"\n",
        "print(text)"
      ],
      "metadata": {
        "colab": {
          "base_uri": "https://localhost:8080/"
        },
        "id": "llAqiTSADrs-",
        "outputId": "d3c8f0d2-9f2e-44b9-f22f-ae3348449b3c"
      },
      "execution_count": 58,
      "outputs": [
        {
          "output_type": "stream",
          "name": "stdout",
          "text": [
            "hope is the last\"quote\" thing ever lost.\n"
          ]
        }
      ]
    }
  ]
}