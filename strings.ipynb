{
  "nbformat": 4,
  "nbformat_minor": 0,
  "metadata": {
    "colab": {
      "name": "strings",
      "provenance": [],
      "authorship_tag": "ABX9TyNoaTieWMVzXmx33zYhNZkQ",
      "include_colab_link": true
    },
    "kernelspec": {
      "name": "python3",
      "display_name": "Python 3"
    },
    "language_info": {
      "name": "python"
    }
  },
  "cells": [
    {
      "cell_type": "markdown",
      "metadata": {
        "id": "view-in-github",
        "colab_type": "text"
      },
      "source": [
        "<a href=\"https://colab.research.google.com/github/VU21CSEN0100037/PYTHON/blob/main/strings.ipynb\" target=\"_parent\"><img src=\"https://colab.research.google.com/assets/colab-badge.svg\" alt=\"Open In Colab\"/></a>"
      ]
    },
    {
      "cell_type": "code",
      "execution_count": 11,
      "metadata": {
        "colab": {
          "base_uri": "https://localhost:8080/"
        },
        "id": "MM2WUAzJ6xei",
        "outputId": "19f42119-3a5d-407d-ca85-2ffebf4d186b"
      },
      "outputs": [
        {
          "output_type": "stream",
          "name": "stdout",
          "text": [
            "hars hitha\n",
            "<class 'str'>\n",
            " \n",
            "10\n"
          ]
        }
      ],
      "source": [
        "a = \"harshitha\"\n",
        "print(a)\n",
        "print(type(a))\n",
        "print(a[4])\n",
        "print(len(a))"
      ]
    },
    {
      "cell_type": "code",
      "source": [
        "a = \"RRR movie has been released\"\n",
        "print(a[3:5])"
      ],
      "metadata": {
        "colab": {
          "base_uri": "https://localhost:8080/"
        },
        "id": "A-yzphXS80Y3",
        "outputId": "11f8843e-6032-44f5-bf9a-f2d1ff87905b"
      },
      "execution_count": 23,
      "outputs": [
        {
          "output_type": "stream",
          "name": "stdout",
          "text": [
            " m\n"
          ]
        }
      ]
    },
    {
      "cell_type": "code",
      "source": [
        ""
      ],
      "metadata": {
        "id": "m0C7tPsf9YMw"
      },
      "execution_count": null,
      "outputs": []
    }
  ]
}