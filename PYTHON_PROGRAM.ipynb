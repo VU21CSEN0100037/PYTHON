{
  "nbformat": 4,
  "nbformat_minor": 0,
  "metadata": {
    "colab": {
      "name": "PYTHON PROGRAM",
      "provenance": [],
      "authorship_tag": "ABX9TyNa+dOmZfOjR6QPfmkYHAAX",
      "include_colab_link": true
    },
    "kernelspec": {
      "name": "python3",
      "display_name": "Python 3"
    },
    "language_info": {
      "name": "python"
    }
  },
  "cells": [
    {
      "cell_type": "markdown",
      "metadata": {
        "id": "view-in-github",
        "colab_type": "text"
      },
      "source": [
        "<a href=\"https://colab.research.google.com/github/VU21CSEN0100037/PYTHON/blob/main/PYTHON_PROGRAM.ipynb\" target=\"_parent\"><img src=\"https://colab.research.google.com/assets/colab-badge.svg\" alt=\"Open In Colab\"/></a>"
      ]
    },
    {
      "cell_type": "markdown",
      "source": [
        "20)write a progam to print prime numbers in given range by using functions(25,50"
      ],
      "metadata": {
        "id": "LbrcWSrrmTkc"
      }
    },
    {
      "cell_type": "code",
      "source": [
        "a=25\n",
        "b=50\n",
        "def prime(a,b):\n",
        " for i in range(a,b+1):\n",
        "  k=0\n",
        "  for j in range(2,i):\n",
        "    if i%j==0:\n",
        "     k+=1 \n",
        "  if k==0:\n",
        "    print(i)\n",
        "prime(a,b)"
      ],
      "metadata": {
        "colab": {
          "base_uri": "https://localhost:8080/"
        },
        "id": "fpGlF5-3mU6L",
        "outputId": "b4225df9-3a8d-41bc-b0ad-8920b47c7312"
      },
      "execution_count": 43,
      "outputs": [
        {
          "output_type": "stream",
          "name": "stdout",
          "text": [
            "29\n",
            "31\n",
            "37\n",
            "41\n",
            "43\n",
            "47\n"
          ]
        }
      ]
    },
    {
      "cell_type": "markdown",
      "source": [
        "21)write program to read any month in integer and display days for that month."
      ],
      "metadata": {
        "id": "SMzpL-fNlLi6"
      }
    },
    {
      "cell_type": "code",
      "source": [
        "a=int(input(\"enter a number:\"))\n",
        "b=[4,6,9,11]\n",
        "if a==2:\n",
        "  print(\"28/29\")\n",
        "elif a in b:\n",
        "    print(\"30\")\n",
        "elif a>=13 or a<1:\n",
        "      print(\"enter the correct month\")\n",
        "else:\n",
        "      print(\"31\")"
      ],
      "metadata": {
        "colab": {
          "base_uri": "https://localhost:8080/"
        },
        "id": "bmSF_VOklKu7",
        "outputId": "dbbaac39-2312-4407-91ed-c8a7c65902f6"
      },
      "execution_count": 2,
      "outputs": [
        {
          "output_type": "stream",
          "name": "stdout",
          "text": [
            "enter a number:2\n",
            "28/29\n"
          ]
        }
      ]
    },
    {
      "cell_type": "markdown",
      "source": [
        "22)write a python program to print even length words in string"
      ],
      "metadata": {
        "id": "VDuq8gs_lsQD"
      }
    },
    {
      "cell_type": "code",
      "source": [
        "a=input(\"enter a string:\")\n",
        "b=a.split()\n",
        "for i in b:\n",
        "  if len(i)%2==0:\n",
        "    print(i)"
      ],
      "metadata": {
        "colab": {
          "base_uri": "https://localhost:8080/"
        },
        "id": "2_jfwhdmlswC",
        "outputId": "dcea41f4-3476-444a-8596-d5f4b5c4999f"
      },
      "execution_count": 5,
      "outputs": [
        {
          "output_type": "stream",
          "name": "stdout",
          "text": [
            "enter a string:\"this is python class\"\n",
            "is\n",
            "python\n",
            "class\"\n"
          ]
        }
      ]
    },
    {
      "cell_type": "markdown",
      "source": [
        "#1)write a python program to find power of number with recursion and without recursion(input n=2 , p=3)"
      ],
      "metadata": {
        "id": "XO3GUDrEsFvK"
      }
    },
    {
      "cell_type": "code",
      "source": [
        "#with recurrsion\n",
        "def pow(n,p):\n",
        "  if p==1: \n",
        "    return n\n",
        "  elif p==0:\n",
        "    return 1\n",
        "  else:\n",
        "      return n*pow(n,p-1)\n",
        "n=int(input(\"base is:\"))\n",
        "p=int(input(\"exponent is:\"))\n",
        "print(pow(n,p)) \n",
        "\n",
        "\n",
        "#without recurrsion\n",
        "a,b=map(int,input().split())\n",
        "print(a**b)"
      ],
      "metadata": {
        "colab": {
          "base_uri": "https://localhost:8080/"
        },
        "id": "jB_EyBVBml-D",
        "outputId": "2f2287e7-ffdf-4af8-b69d-30f926bb1c05"
      },
      "execution_count": 28,
      "outputs": [
        {
          "output_type": "stream",
          "name": "stdout",
          "text": [
            "base is:3 \n",
            "exponent is:6\n",
            "729\n",
            "2 9\n",
            "512\n"
          ]
        }
      ]
    },
    {
      "cell_type": "markdown",
      "source": [
        "2)write a program to sort tuple by total digits (input: list=[(3,4,6,723),(1,2),(134,234,34)])\n",
        "      output:[(1,2)(3,4,6,723)(34,134,234)]"
      ],
      "metadata": {
        "id": "39Qy7OIfpbii"
      }
    },
    {
      "cell_type": "code",
      "source": [
        "a=[(3,4,6,723),(1,2),(134,234,34)]\n",
        "for i in range(0,len(a)):\n",
        "  a[i]=sorted(a[i])\n",
        "print(sorted(a))"
      ],
      "metadata": {
        "colab": {
          "base_uri": "https://localhost:8080/"
        },
        "id": "lKAaNwmQtjWC",
        "outputId": "bf94fbe4-35b6-48e9-cc7c-9151bcbe5e8c"
      },
      "execution_count": 35,
      "outputs": [
        {
          "output_type": "stream",
          "name": "stdout",
          "text": [
            "[[1, 2], [3, 4, 6, 723], [34, 134, 234]]\n"
          ]
        }
      ]
    },
    {
      "cell_type": "markdown",
      "source": [
        "3)take five subjects from the user and display the grade of the student,if average is 90-100(o),80-89(a+),70-79(a)..."
      ],
      "metadata": {
        "id": "svx0g7yls_A6"
      }
    },
    {
      "cell_type": "code",
      "source": [
        "a=int(input(\"enter a 1st subject number\"))\n",
        "b=int(input(\"enter a 2nd subject number\"))\n",
        "c=int(input(\"enter a 3rd subject number\"))\n",
        "d=int(input(\"enter a 4th subject number\"))\n",
        "e=int(input(\"enter a 5th subject number\"))\n",
        "f=(a+b+c+d+e)/5\n",
        "if f>90:\n",
        "  print(\"grade O\")\n",
        "elif f>80 and f<90:\n",
        "  print(\"grade a+\")\n",
        "elif f>70 and f<80:\n",
        "  print(\"grade a\")\n",
        "  \n"
      ],
      "metadata": {
        "colab": {
          "base_uri": "https://localhost:8080/"
        },
        "id": "SagwD9u6tACi",
        "outputId": "a96f71db-4682-4088-991c-7b6ec81ee9a5"
      },
      "execution_count": 46,
      "outputs": [
        {
          "output_type": "stream",
          "name": "stdout",
          "text": [
            "enter a 1st subject number90\n",
            "enter a 2nd subject number96\n",
            "enter a 3rd subject number80\n",
            "enter a 4th subject number75\n",
            "enter a 5th subject number72\n",
            "grade a+\n"
          ]
        }
      ]
    },
    {
      "cell_type": "markdown",
      "source": [
        "4)write a python program that prints 1 if all three given numbers are ascending order.\n"
      ],
      "metadata": {
        "id": "ztiSPmW811Yz"
      }
    },
    {
      "cell_type": "code",
      "source": [
        ""
      ],
      "metadata": {
        "id": "rBc6N0SJ173y"
      },
      "execution_count": null,
      "outputs": []
    }
  ]
}